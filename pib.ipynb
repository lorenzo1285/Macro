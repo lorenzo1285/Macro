{
  "nbformat": 4,
  "nbformat_minor": 0,
  "metadata": {
    "kernelspec": {
      "display_name": "Python 3",
      "language": "python",
      "name": "python3"
    },
    "language_info": {
      "codemirror_mode": {
        "name": "ipython",
        "version": 3
      },
      "file_extension": ".py",
      "mimetype": "text/x-python",
      "name": "python",
      "nbconvert_exporter": "python",
      "pygments_lexer": "ipython3",
      "version": "3.7.3"
    },
    "colab": {
      "name": "pib.ipynb",
      "provenance": [],
      "include_colab_link": true
    }
  },
  "cells": [
    {
      "cell_type": "markdown",
      "metadata": {
        "id": "view-in-github",
        "colab_type": "text"
      },
      "source": [
        "<a href=\"https://colab.research.google.com/github/lorenzo1285/Macro/blob/main/pib.ipynb\" target=\"_parent\"><img src=\"https://colab.research.google.com/assets/colab-badge.svg\" alt=\"Open In Colab\"/></a>"
      ]
    },
    {
      "cell_type": "code",
      "metadata": {
        "id": "qSe0LTix8E_k"
      },
      "source": [
        "%matplotlib inline\n",
        "import matplotlib.pyplot as plt\n",
        "import seaborn as sns\n",
        "import pandas as pd\n",
        "import statsmodels.api as sm\n",
        "import numpy as np\n",
        "sns.set_style('whitegrid')"
      ],
      "execution_count": null,
      "outputs": []
    },
    {
      "cell_type": "code",
      "metadata": {
        "id": "Inc4HBeO8E_z"
      },
      "source": [
        "df = pd.read_excel('pib_mundial.xlsx')\n",
        "pib_mundial = df.fillna(0)"
      ],
      "execution_count": null,
      "outputs": []
    },
    {
      "cell_type": "code",
      "metadata": {
        "scrolled": false,
        "id": "hhiWj6Zu8E_2",
        "outputId": "596d5ef1-3c9e-4ca7-8154-3bfd3558a4ef"
      },
      "source": [
        "df1 = pib_mundial.drop(columns=['Country Code','Indicator Name','Indicator Code'])\n",
        "df1.set_index('Country Name', inplace=True)\n",
        "df1.head()"
      ],
      "execution_count": null,
      "outputs": [
        {
          "data": {
            "text/html": [
              "<div>\n",
              "<style scoped>\n",
              "    .dataframe tbody tr th:only-of-type {\n",
              "        vertical-align: middle;\n",
              "    }\n",
              "\n",
              "    .dataframe tbody tr th {\n",
              "        vertical-align: top;\n",
              "    }\n",
              "\n",
              "    .dataframe thead th {\n",
              "        text-align: right;\n",
              "    }\n",
              "</style>\n",
              "<table border=\"1\" class=\"dataframe\">\n",
              "  <thead>\n",
              "    <tr style=\"text-align: right;\">\n",
              "      <th></th>\n",
              "      <th>1960</th>\n",
              "      <th>1961</th>\n",
              "      <th>1962</th>\n",
              "      <th>1963</th>\n",
              "      <th>1964</th>\n",
              "      <th>1965</th>\n",
              "      <th>1966</th>\n",
              "      <th>1967</th>\n",
              "      <th>1968</th>\n",
              "      <th>1969</th>\n",
              "      <th>...</th>\n",
              "      <th>2010</th>\n",
              "      <th>2011</th>\n",
              "      <th>2012</th>\n",
              "      <th>2013</th>\n",
              "      <th>2014</th>\n",
              "      <th>2015</th>\n",
              "      <th>2016</th>\n",
              "      <th>2017</th>\n",
              "      <th>2018</th>\n",
              "      <th>2019</th>\n",
              "    </tr>\n",
              "    <tr>\n",
              "      <th>Country Name</th>\n",
              "      <th></th>\n",
              "      <th></th>\n",
              "      <th></th>\n",
              "      <th></th>\n",
              "      <th></th>\n",
              "      <th></th>\n",
              "      <th></th>\n",
              "      <th></th>\n",
              "      <th></th>\n",
              "      <th></th>\n",
              "      <th></th>\n",
              "      <th></th>\n",
              "      <th></th>\n",
              "      <th></th>\n",
              "      <th></th>\n",
              "      <th></th>\n",
              "      <th></th>\n",
              "      <th></th>\n",
              "      <th></th>\n",
              "      <th></th>\n",
              "      <th></th>\n",
              "    </tr>\n",
              "  </thead>\n",
              "  <tbody>\n",
              "    <tr>\n",
              "      <th>Aruba</th>\n",
              "      <td>0.0</td>\n",
              "      <td>0.0</td>\n",
              "      <td>0.0</td>\n",
              "      <td>0.0</td>\n",
              "      <td>0.0</td>\n",
              "      <td>0.0</td>\n",
              "      <td>0.0</td>\n",
              "      <td>0.0</td>\n",
              "      <td>0.0</td>\n",
              "      <td>0.0</td>\n",
              "      <td>...</td>\n",
              "      <td>-3.887760</td>\n",
              "      <td>3.063882</td>\n",
              "      <td>-1.864168</td>\n",
              "      <td>3.593198</td>\n",
              "      <td>-0.294412</td>\n",
              "      <td>5.125616</td>\n",
              "      <td>1.583035</td>\n",
              "      <td>1.521780</td>\n",
              "      <td>0.000000</td>\n",
              "      <td>0.000000</td>\n",
              "    </tr>\n",
              "    <tr>\n",
              "      <th>Afganistán</th>\n",
              "      <td>0.0</td>\n",
              "      <td>0.0</td>\n",
              "      <td>0.0</td>\n",
              "      <td>0.0</td>\n",
              "      <td>0.0</td>\n",
              "      <td>0.0</td>\n",
              "      <td>0.0</td>\n",
              "      <td>0.0</td>\n",
              "      <td>0.0</td>\n",
              "      <td>0.0</td>\n",
              "      <td>...</td>\n",
              "      <td>11.264133</td>\n",
              "      <td>-2.681081</td>\n",
              "      <td>8.974880</td>\n",
              "      <td>1.974169</td>\n",
              "      <td>-0.665271</td>\n",
              "      <td>-1.622887</td>\n",
              "      <td>-0.541697</td>\n",
              "      <td>0.064250</td>\n",
              "      <td>-1.195347</td>\n",
              "      <td>1.536912</td>\n",
              "    </tr>\n",
              "    <tr>\n",
              "      <th>Angola</th>\n",
              "      <td>0.0</td>\n",
              "      <td>0.0</td>\n",
              "      <td>0.0</td>\n",
              "      <td>0.0</td>\n",
              "      <td>0.0</td>\n",
              "      <td>0.0</td>\n",
              "      <td>0.0</td>\n",
              "      <td>0.0</td>\n",
              "      <td>0.0</td>\n",
              "      <td>0.0</td>\n",
              "      <td>...</td>\n",
              "      <td>0.640294</td>\n",
              "      <td>-0.220851</td>\n",
              "      <td>4.706498</td>\n",
              "      <td>1.292041</td>\n",
              "      <td>1.219835</td>\n",
              "      <td>-2.468719</td>\n",
              "      <td>-5.816191</td>\n",
              "      <td>-3.409909</td>\n",
              "      <td>-5.162102</td>\n",
              "      <td>-3.795674</td>\n",
              "    </tr>\n",
              "    <tr>\n",
              "      <th>Albania</th>\n",
              "      <td>0.0</td>\n",
              "      <td>0.0</td>\n",
              "      <td>0.0</td>\n",
              "      <td>0.0</td>\n",
              "      <td>0.0</td>\n",
              "      <td>0.0</td>\n",
              "      <td>0.0</td>\n",
              "      <td>0.0</td>\n",
              "      <td>0.0</td>\n",
              "      <td>0.0</td>\n",
              "      <td>...</td>\n",
              "      <td>4.223038</td>\n",
              "      <td>2.821558</td>\n",
              "      <td>1.585156</td>\n",
              "      <td>1.187204</td>\n",
              "      <td>1.985426</td>\n",
              "      <td>2.516853</td>\n",
              "      <td>3.480117</td>\n",
              "      <td>3.897711</td>\n",
              "      <td>4.328396</td>\n",
              "      <td>2.676550</td>\n",
              "    </tr>\n",
              "    <tr>\n",
              "      <th>Andorra</th>\n",
              "      <td>0.0</td>\n",
              "      <td>0.0</td>\n",
              "      <td>0.0</td>\n",
              "      <td>0.0</td>\n",
              "      <td>0.0</td>\n",
              "      <td>0.0</td>\n",
              "      <td>0.0</td>\n",
              "      <td>0.0</td>\n",
              "      <td>0.0</td>\n",
              "      <td>0.0</td>\n",
              "      <td>...</td>\n",
              "      <td>-1.958707</td>\n",
              "      <td>0.830102</td>\n",
              "      <td>-3.452688</td>\n",
              "      <td>-1.573746</td>\n",
              "      <td>4.524456</td>\n",
              "      <td>2.997046</td>\n",
              "      <td>4.667655</td>\n",
              "      <td>0.731813</td>\n",
              "      <td>1.582169</td>\n",
              "      <td>1.669680</td>\n",
              "    </tr>\n",
              "  </tbody>\n",
              "</table>\n",
              "<p>5 rows × 60 columns</p>\n",
              "</div>"
            ],
            "text/plain": [
              "              1960  1961  1962  1963  1964  1965  1966  1967  1968  1969  ...  \\\n",
              "Country Name                                                              ...   \n",
              "Aruba          0.0   0.0   0.0   0.0   0.0   0.0   0.0   0.0   0.0   0.0  ...   \n",
              "Afganistán     0.0   0.0   0.0   0.0   0.0   0.0   0.0   0.0   0.0   0.0  ...   \n",
              "Angola         0.0   0.0   0.0   0.0   0.0   0.0   0.0   0.0   0.0   0.0  ...   \n",
              "Albania        0.0   0.0   0.0   0.0   0.0   0.0   0.0   0.0   0.0   0.0  ...   \n",
              "Andorra        0.0   0.0   0.0   0.0   0.0   0.0   0.0   0.0   0.0   0.0  ...   \n",
              "\n",
              "                   2010      2011      2012      2013      2014      2015  \\\n",
              "Country Name                                                                \n",
              "Aruba         -3.887760  3.063882 -1.864168  3.593198 -0.294412  5.125616   \n",
              "Afganistán    11.264133 -2.681081  8.974880  1.974169 -0.665271 -1.622887   \n",
              "Angola         0.640294 -0.220851  4.706498  1.292041  1.219835 -2.468719   \n",
              "Albania        4.223038  2.821558  1.585156  1.187204  1.985426  2.516853   \n",
              "Andorra       -1.958707  0.830102 -3.452688 -1.573746  4.524456  2.997046   \n",
              "\n",
              "                  2016      2017      2018      2019  \n",
              "Country Name                                          \n",
              "Aruba         1.583035  1.521780  0.000000  0.000000  \n",
              "Afganistán   -0.541697  0.064250 -1.195347  1.536912  \n",
              "Angola       -5.816191 -3.409909 -5.162102 -3.795674  \n",
              "Albania       3.480117  3.897711  4.328396  2.676550  \n",
              "Andorra       4.667655  0.731813  1.582169  1.669680  \n",
              "\n",
              "[5 rows x 60 columns]"
            ]
          },
          "execution_count": 3,
          "metadata": {},
          "output_type": "execute_result"
        }
      ]
    },
    {
      "cell_type": "code",
      "metadata": {
        "id": "Rbs9f_1i8E_7",
        "outputId": "a2e424f7-928b-4a4d-e222-cb8258c5f4d8"
      },
      "source": [
        "pib = df1.transpose()\n",
        "pib['Fecha']=pib.index\n",
        "pib.head()\n"
      ],
      "execution_count": null,
      "outputs": [
        {
          "data": {
            "text/html": [
              "<div>\n",
              "<style scoped>\n",
              "    .dataframe tbody tr th:only-of-type {\n",
              "        vertical-align: middle;\n",
              "    }\n",
              "\n",
              "    .dataframe tbody tr th {\n",
              "        vertical-align: top;\n",
              "    }\n",
              "\n",
              "    .dataframe thead th {\n",
              "        text-align: right;\n",
              "    }\n",
              "</style>\n",
              "<table border=\"1\" class=\"dataframe\">\n",
              "  <thead>\n",
              "    <tr style=\"text-align: right;\">\n",
              "      <th>Country Name</th>\n",
              "      <th>Aruba</th>\n",
              "      <th>Afganistán</th>\n",
              "      <th>Angola</th>\n",
              "      <th>Albania</th>\n",
              "      <th>Andorra</th>\n",
              "      <th>El mundo árabe</th>\n",
              "      <th>Emiratos Árabes Unidos</th>\n",
              "      <th>Argentina</th>\n",
              "      <th>Armenia</th>\n",
              "      <th>Samoa Americana</th>\n",
              "      <th>...</th>\n",
              "      <th>Viet Nam</th>\n",
              "      <th>Vanuatu</th>\n",
              "      <th>Mundo</th>\n",
              "      <th>Samoa</th>\n",
              "      <th>Kosovo</th>\n",
              "      <th>Yemen, Rep. del</th>\n",
              "      <th>Sudáfrica</th>\n",
              "      <th>Zambia</th>\n",
              "      <th>Zimbabwe</th>\n",
              "      <th>Fecha</th>\n",
              "    </tr>\n",
              "  </thead>\n",
              "  <tbody>\n",
              "    <tr>\n",
              "      <th>1960</th>\n",
              "      <td>0.0</td>\n",
              "      <td>0.0</td>\n",
              "      <td>0.0</td>\n",
              "      <td>0.0</td>\n",
              "      <td>0.0</td>\n",
              "      <td>0.0</td>\n",
              "      <td>0.0</td>\n",
              "      <td>0.000000</td>\n",
              "      <td>0.0</td>\n",
              "      <td>0.0</td>\n",
              "      <td>...</td>\n",
              "      <td>0.0</td>\n",
              "      <td>0.0</td>\n",
              "      <td>0.000000</td>\n",
              "      <td>0.0</td>\n",
              "      <td>0.0</td>\n",
              "      <td>0.0</td>\n",
              "      <td>0.000000</td>\n",
              "      <td>0.000000</td>\n",
              "      <td>0.000000</td>\n",
              "      <td>1960</td>\n",
              "    </tr>\n",
              "    <tr>\n",
              "      <th>1961</th>\n",
              "      <td>0.0</td>\n",
              "      <td>0.0</td>\n",
              "      <td>0.0</td>\n",
              "      <td>0.0</td>\n",
              "      <td>0.0</td>\n",
              "      <td>0.0</td>\n",
              "      <td>0.0</td>\n",
              "      <td>3.728788</td>\n",
              "      <td>0.0</td>\n",
              "      <td>0.0</td>\n",
              "      <td>...</td>\n",
              "      <td>0.0</td>\n",
              "      <td>0.0</td>\n",
              "      <td>2.904494</td>\n",
              "      <td>0.0</td>\n",
              "      <td>0.0</td>\n",
              "      <td>0.0</td>\n",
              "      <td>1.328157</td>\n",
              "      <td>-1.635355</td>\n",
              "      <td>2.821694</td>\n",
              "      <td>1961</td>\n",
              "    </tr>\n",
              "    <tr>\n",
              "      <th>1962</th>\n",
              "      <td>0.0</td>\n",
              "      <td>0.0</td>\n",
              "      <td>0.0</td>\n",
              "      <td>0.0</td>\n",
              "      <td>0.0</td>\n",
              "      <td>0.0</td>\n",
              "      <td>0.0</td>\n",
              "      <td>-2.425908</td>\n",
              "      <td>0.0</td>\n",
              "      <td>0.0</td>\n",
              "      <td>...</td>\n",
              "      <td>0.0</td>\n",
              "      <td>0.0</td>\n",
              "      <td>3.762568</td>\n",
              "      <td>0.0</td>\n",
              "      <td>0.0</td>\n",
              "      <td>0.0</td>\n",
              "      <td>3.570427</td>\n",
              "      <td>-5.371302</td>\n",
              "      <td>-1.934799</td>\n",
              "      <td>1962</td>\n",
              "    </tr>\n",
              "    <tr>\n",
              "      <th>1963</th>\n",
              "      <td>0.0</td>\n",
              "      <td>0.0</td>\n",
              "      <td>0.0</td>\n",
              "      <td>0.0</td>\n",
              "      <td>0.0</td>\n",
              "      <td>0.0</td>\n",
              "      <td>0.0</td>\n",
              "      <td>-6.788178</td>\n",
              "      <td>0.0</td>\n",
              "      <td>0.0</td>\n",
              "      <td>...</td>\n",
              "      <td>0.0</td>\n",
              "      <td>0.0</td>\n",
              "      <td>3.197514</td>\n",
              "      <td>0.0</td>\n",
              "      <td>0.0</td>\n",
              "      <td>0.0</td>\n",
              "      <td>4.707591</td>\n",
              "      <td>0.215686</td>\n",
              "      <td>2.696914</td>\n",
              "      <td>1963</td>\n",
              "    </tr>\n",
              "    <tr>\n",
              "      <th>1964</th>\n",
              "      <td>0.0</td>\n",
              "      <td>0.0</td>\n",
              "      <td>0.0</td>\n",
              "      <td>0.0</td>\n",
              "      <td>0.0</td>\n",
              "      <td>0.0</td>\n",
              "      <td>0.0</td>\n",
              "      <td>8.437234</td>\n",
              "      <td>0.0</td>\n",
              "      <td>0.0</td>\n",
              "      <td>...</td>\n",
              "      <td>0.0</td>\n",
              "      <td>0.0</td>\n",
              "      <td>4.563465</td>\n",
              "      <td>0.0</td>\n",
              "      <td>0.0</td>\n",
              "      <td>0.0</td>\n",
              "      <td>5.237070</td>\n",
              "      <td>8.873139</td>\n",
              "      <td>-4.403539</td>\n",
              "      <td>1964</td>\n",
              "    </tr>\n",
              "  </tbody>\n",
              "</table>\n",
              "<p>5 rows × 265 columns</p>\n",
              "</div>"
            ],
            "text/plain": [
              "Country Name  Aruba  Afganistán  Angola  Albania  Andorra  El mundo árabe  \\\n",
              "1960            0.0         0.0     0.0      0.0      0.0             0.0   \n",
              "1961            0.0         0.0     0.0      0.0      0.0             0.0   \n",
              "1962            0.0         0.0     0.0      0.0      0.0             0.0   \n",
              "1963            0.0         0.0     0.0      0.0      0.0             0.0   \n",
              "1964            0.0         0.0     0.0      0.0      0.0             0.0   \n",
              "\n",
              "Country Name  Emiratos Árabes Unidos  Argentina  Armenia  Samoa Americana  \\\n",
              "1960                             0.0   0.000000      0.0              0.0   \n",
              "1961                             0.0   3.728788      0.0              0.0   \n",
              "1962                             0.0  -2.425908      0.0              0.0   \n",
              "1963                             0.0  -6.788178      0.0              0.0   \n",
              "1964                             0.0   8.437234      0.0              0.0   \n",
              "\n",
              "Country Name  ...  Viet Nam  Vanuatu     Mundo  Samoa  Kosovo  \\\n",
              "1960          ...       0.0      0.0  0.000000    0.0     0.0   \n",
              "1961          ...       0.0      0.0  2.904494    0.0     0.0   \n",
              "1962          ...       0.0      0.0  3.762568    0.0     0.0   \n",
              "1963          ...       0.0      0.0  3.197514    0.0     0.0   \n",
              "1964          ...       0.0      0.0  4.563465    0.0     0.0   \n",
              "\n",
              "Country Name  Yemen, Rep. del  Sudáfrica    Zambia  Zimbabwe  Fecha  \n",
              "1960                      0.0   0.000000  0.000000  0.000000   1960  \n",
              "1961                      0.0   1.328157 -1.635355  2.821694   1961  \n",
              "1962                      0.0   3.570427 -5.371302 -1.934799   1962  \n",
              "1963                      0.0   4.707591  0.215686  2.696914   1963  \n",
              "1964                      0.0   5.237070  8.873139 -4.403539   1964  \n",
              "\n",
              "[5 rows x 265 columns]"
            ]
          },
          "execution_count": 4,
          "metadata": {},
          "output_type": "execute_result"
        }
      ]
    },
    {
      "cell_type": "code",
      "metadata": {
        "id": "ukGdp0t-8E_9",
        "outputId": "2afe0424-3189-4d79-8f2b-89977b117dbf"
      },
      "source": [
        "suma = df1.sum(axis = 1)\n",
        "suma"
      ],
      "execution_count": null,
      "outputs": [
        {
          "data": {
            "text/plain": [
              "Country Name\n",
              "Aruba                                               58.736045\n",
              "Afganistán                                          58.694884\n",
              "Angola                                               6.891539\n",
              "Albania                                            108.927167\n",
              "Andorra                                             11.890836\n",
              "El mundo árabe                                      49.867139\n",
              "Emiratos Árabes Unidos                             -80.086801\n",
              "Argentina                                           62.857797\n",
              "Armenia                                            119.232071\n",
              "Samoa Americana                                    -12.373567\n",
              "Antigua y Barbuda                                  117.390360\n",
              "Australia                                          110.033700\n",
              "Austria                                            138.225128\n",
              "Azerbaiyán                                          85.756478\n",
              "Burundi                                              5.698629\n",
              "Bélgica                                            132.194168\n",
              "Benin                                               59.876985\n",
              "Burkina Faso                                       115.287473\n",
              "Bangladesh                                         130.059598\n",
              "Bulgaria                                            97.140188\n",
              "Bahrein                                              1.743177\n",
              "Bahamas                                             60.304915\n",
              "Bosnia y Herzegovina                               257.766216\n",
              "Belarús                                             84.033152\n",
              "Belice                                             140.606151\n",
              "Bermudas                                           108.828535\n",
              "Bolivia                                             97.085243\n",
              "Brasil                                             123.247373\n",
              "Barbados                                            38.886276\n",
              "Brunei Darussalam                                  -27.004474\n",
              "                                                      ...    \n",
              "América Latina y el Caribe (BIRF y la AIF)          96.151829\n",
              "Timor-Leste                                         46.879937\n",
              "Oriente Medio y Norte de África (BIRF y la AIF)     83.975613\n",
              "Tonga                                               69.187858\n",
              "Asia meridional (BIRF y la AIF)                    180.723507\n",
              "África al sur del Sahara (BIRF y la AIF)            41.111023\n",
              "Trinidad y Tobago                                  141.535761\n",
              "Túnez                                              142.005160\n",
              "Turquía                                            162.422210\n",
              "Tuvalu                                              54.039260\n",
              "Tanzanía                                            70.365917\n",
              "Uganda                                              89.830733\n",
              "Ucrania                                            -10.440310\n",
              "Ingreso mediano alto                               189.529355\n",
              "Uruguay                                            103.903344\n",
              "Estados Unidos                                     117.778227\n",
              "Uzbekistán                                          81.566498\n",
              "San Vicente y las Granadinas                       147.179292\n",
              "Venezuela                                           18.747042\n",
              "Islas Vírgenes Británicas                            0.000000\n",
              "Islas Vírgenes (EE.UU.)                            -20.241570\n",
              "Viet Nam                                           175.459537\n",
              "Vanuatu                                              0.539564\n",
              "Mundo                                              109.597161\n",
              "Samoa                                               55.630393\n",
              "Kosovo                                              92.505212\n",
              "Yemen, Rep. del                                    -37.793055\n",
              "Sudáfrica                                           48.120661\n",
              "Zambia                                              15.981340\n",
              "Zimbabwe                                            32.425585\n",
              "Length: 264, dtype: float64"
            ]
          },
          "execution_count": 15,
          "metadata": {},
          "output_type": "execute_result"
        }
      ]
    },
    {
      "cell_type": "code",
      "metadata": {
        "scrolled": true,
        "id": "Nxe59pSV8FAA",
        "outputId": "d6680867-a30b-479b-ce7f-941bcf7795ac"
      },
      "source": [
        "pib_mex = pib.loc['2009':'2019','México']\n",
        "plt.plot(pib_mex)\n",
        "plt.title('PIB_MEXICO')\n",
        "plt.show()"
      ],
      "execution_count": null,
      "outputs": [
        {
          "data": {
            "image/png": "[encoded data removed]",
            "text/plain": [
              "<Figure size 432x288 with 1 Axes>"
            ]
          },
          "metadata": {
            "needs_background": "light"
          },
          "output_type": "display_data"
        }
      ]
    },
    {
      "cell_type": "code",
      "metadata": {
        "id": "8P2J1pg-8FAC",
        "outputId": "cf3b4484-b30f-40de-d614-7b8ea89c2da5"
      },
      "source": [
        "IDH = pd.read_excel('IDH_Mexico.xlsx')\n",
        "IDH.set_index('Fecha', inplace=True)\n",
        "idh_mex = IDH.iloc[0:11,0:1].sort_index()\n",
        "idh_mex.index"
      ],
      "execution_count": null,
      "outputs": [
        {
          "data": {
            "text/plain": [
              "Int64Index([2009, 2010, 2011, 2012, 2013, 2014, 2015, 2016, 2017, 2018, 2019], dtype='int64', name='Fecha')"
            ]
          },
          "execution_count": 6,
          "metadata": {},
          "output_type": "execute_result"
        }
      ]
    },
    {
      "cell_type": "code",
      "metadata": {
        "id": "UlIXTj3_8FAF",
        "outputId": "64226033-1c64-451c-e160-96e4fdd6abf6"
      },
      "source": [
        "plt.plot(idh_mex)\n",
        "plt.title('IDH_MEXICO')\n",
        "plt.show()"
      ],
      "execution_count": null,
      "outputs": [
        {
          "data": {
            "image/png": "[encoded data removed]",
            "text/plain": [
              "<Figure size 432x288 with 1 Axes>"
            ]
          },
          "metadata": {
            "needs_background": "light"
          },
          "output_type": "display_data"
        }
      ]
    },
    {
      "cell_type": "code",
      "metadata": {
        "id": "p0_ZPzIs8FAJ",
        "outputId": "b20a19ee-692b-46dd-e6dc-463fbf63bb00"
      },
      "source": [
        "pib_mex.describe()"
      ],
      "execution_count": null,
      "outputs": [
        {
          "data": {
            "text/plain": [
              "count    11.000000\n",
              "mean      0.659570\n",
              "std       2.730419\n",
              "min      -6.674167\n",
              "25%       0.480453\n",
              "50%       1.403029\n",
              "75%       2.123092\n",
              "max       3.617189\n",
              "Name: México, dtype: float64"
            ]
          },
          "execution_count": 8,
          "metadata": {},
          "output_type": "execute_result"
        }
      ]
    },
    {
      "cell_type": "code",
      "metadata": {
        "id": "MptXeVUO8FAL",
        "outputId": "b4aa5825-cbcc-4fb1-8504-48de968119b6"
      },
      "source": [
        "idh_mex.describe()"
      ],
      "execution_count": null,
      "outputs": [
        {
          "data": {
            "text/html": [
              "<div>\n",
              "<style scoped>\n",
              "    .dataframe tbody tr th:only-of-type {\n",
              "        vertical-align: middle;\n",
              "    }\n",
              "\n",
              "    .dataframe tbody tr th {\n",
              "        vertical-align: top;\n",
              "    }\n",
              "\n",
              "    .dataframe thead th {\n",
              "        text-align: right;\n",
              "    }\n",
              "</style>\n",
              "<table border=\"1\" class=\"dataframe\">\n",
              "  <thead>\n",
              "    <tr style=\"text-align: right;\">\n",
              "      <th></th>\n",
              "      <th>IDH</th>\n",
              "    </tr>\n",
              "  </thead>\n",
              "  <tbody>\n",
              "    <tr>\n",
              "      <th>count</th>\n",
              "      <td>11.000000</td>\n",
              "    </tr>\n",
              "    <tr>\n",
              "      <th>mean</th>\n",
              "      <td>762.454545</td>\n",
              "    </tr>\n",
              "    <tr>\n",
              "      <th>std</th>\n",
              "      <td>10.501082</td>\n",
              "    </tr>\n",
              "    <tr>\n",
              "      <th>min</th>\n",
              "      <td>748.000000</td>\n",
              "    </tr>\n",
              "    <tr>\n",
              "      <th>25%</th>\n",
              "      <td>755.500000</td>\n",
              "    </tr>\n",
              "    <tr>\n",
              "      <th>50%</th>\n",
              "      <td>761.000000</td>\n",
              "    </tr>\n",
              "    <tr>\n",
              "      <th>75%</th>\n",
              "      <td>769.500000</td>\n",
              "    </tr>\n",
              "    <tr>\n",
              "      <th>max</th>\n",
              "      <td>779.000000</td>\n",
              "    </tr>\n",
              "  </tbody>\n",
              "</table>\n",
              "</div>"
            ],
            "text/plain": [
              "              IDH\n",
              "count   11.000000\n",
              "mean   762.454545\n",
              "std     10.501082\n",
              "min    748.000000\n",
              "25%    755.500000\n",
              "50%    761.000000\n",
              "75%    769.500000\n",
              "max    779.000000"
            ]
          },
          "execution_count": 9,
          "metadata": {},
          "output_type": "execute_result"
        }
      ]
    },
    {
      "cell_type": "code",
      "metadata": {
        "scrolled": true,
        "id": "KlESVoWt8FAN"
      },
      "source": [
        "pib['Fecha'] = pib.Fecha.astype(float)"
      ],
      "execution_count": null,
      "outputs": []
    },
    {
      "cell_type": "code",
      "metadata": {
        "id": "ydh1AVpK8FAO",
        "outputId": "ba570144-3590-44c8-fb91-2e91c1e49c39"
      },
      "source": [
        "y = pib_mex\n",
        "x = idh_mex\n",
        "sns.regplot(x, y,scatter_kws={\"alpha\": 0.5})\n",
        "plt.title('Correlación_IDH_VS_PIB')\n",
        "plt.show()"
      ],
      "execution_count": null,
      "outputs": [
        {
          "data": {
            "image/png": "[encoded data removed]",
            "text/plain": [
              "<Figure size 432x288 with 1 Axes>"
            ]
          },
          "metadata": {
            "needs_background": "light"
          },
          "output_type": "display_data"
        }
      ]
    },
    {
      "cell_type": "code",
      "metadata": {
        "id": "zBVkURAS8FAP",
        "outputId": "ab97dd8e-1ef2-4b0f-e555-cafe06f13980"
      },
      "source": [
        "pib_usa = pib.loc['2009':'2019','Estados Unidos']\n",
        "pib_usa.describe()"
      ],
      "execution_count": null,
      "outputs": [
        {
          "data": {
            "text/plain": [
              "count    11.000000\n",
              "mean      1.132318\n",
              "std       1.573833\n",
              "min      -3.387436\n",
              "25%       1.028544\n",
              "50%       1.678125\n",
              "75%       1.754329\n",
              "max       2.391100\n",
              "Name: Estados Unidos, dtype: float64"
            ]
          },
          "execution_count": 12,
          "metadata": {},
          "output_type": "execute_result"
        }
      ]
    },
    {
      "cell_type": "code",
      "metadata": {
        "id": "nTlmRbzc8FAR",
        "outputId": "9a694ad3-d6f4-4a96-b4ac-7b1f80abf5b3"
      },
      "source": [
        "pib_usa"
      ],
      "execution_count": null,
      "outputs": [
        {
          "data": {
            "text/plain": [
              "2009   -3.387436\n",
              "2010    1.718201\n",
              "2011    0.822278\n",
              "2012    1.508614\n",
              "2013    1.145053\n",
              "2014    1.782786\n",
              "2015    2.158874\n",
              "2016    0.912035\n",
              "2017    1.725873\n",
              "2018    2.391100\n",
              "2019    1.678125\n",
              "Name: Estados Unidos, dtype: float64"
            ]
          },
          "execution_count": 13,
          "metadata": {},
          "output_type": "execute_result"
        }
      ]
    },
    {
      "cell_type": "code",
      "metadata": {
        "id": "9FawEq4B8FAV",
        "outputId": "d9f7e95f-d053-4049-e5ab-9df983ab8b3a"
      },
      "source": [
        "plt.figure(figsize=(8,5))\n",
        "plt.title('PIB USA')\n",
        "\n",
        "plt.xlabel('Periodo')\n",
        "plt.ylabel('PIB_%')\n",
        "\n",
        "plt.plot(pib_usa, 'b.-', label='Estados Unidos')\n",
        "\n",
        "plt.legend()\n",
        "plt.show()"
      ],
      "execution_count": null,
      "outputs": [
        {
          "data": {
            "image/png": "[encoded data removed]",
            "text/plain": [
              "<Figure size 576x360 with 1 Axes>"
            ]
          },
          "metadata": {
            "needs_background": "light"
          },
          "output_type": "display_data"
        }
      ]
    },
    {
      "cell_type": "code",
      "metadata": {
        "id": "roIn5BBn8FAa"
      },
      "source": [
        ""
      ],
      "execution_count": null,
      "outputs": []
    },
    {
      "cell_type": "code",
      "metadata": {
        "id": "E4rZMoKH8FAb"
      },
      "source": [
        ""
      ],
      "execution_count": null,
      "outputs": []
    },
    {
      "cell_type": "code",
      "metadata": {
        "id": "_gPyHLoF8FAc",
        "outputId": "3ad289eb-53d8-4bf8-e5df-c1332b6f415b"
      },
      "source": [
        "df3 = pd.read_excel('politica fiscal.xlsx')\n",
        "df3.set_index('Periodo', inplace=True)\n",
        "df3"
      ],
      "execution_count": null,
      "outputs": [
        {
          "data": {
            "text/html": [
              "<div>\n",
              "<style scoped>\n",
              "    .dataframe tbody tr th:only-of-type {\n",
              "        vertical-align: middle;\n",
              "    }\n",
              "\n",
              "    .dataframe tbody tr th {\n",
              "        vertical-align: top;\n",
              "    }\n",
              "\n",
              "    .dataframe thead th {\n",
              "        text-align: right;\n",
              "    }\n",
              "</style>\n",
              "<table border=\"1\" class=\"dataframe\">\n",
              "  <thead>\n",
              "    <tr style=\"text-align: right;\">\n",
              "      <th></th>\n",
              "      <th>PIB</th>\n",
              "      <th>Tasa_10Años</th>\n",
              "      <th>Gasto_Publico</th>\n",
              "      <th>Tax</th>\n",
              "    </tr>\n",
              "    <tr>\n",
              "      <th>Periodo</th>\n",
              "      <th></th>\n",
              "      <th></th>\n",
              "      <th></th>\n",
              "      <th></th>\n",
              "    </tr>\n",
              "  </thead>\n",
              "  <tbody>\n",
              "    <tr>\n",
              "      <th>2009</th>\n",
              "      <td>-3.387436</td>\n",
              "      <td>3.277250</td>\n",
              "      <td>-1412688</td>\n",
              "      <td>2345337177</td>\n",
              "    </tr>\n",
              "    <tr>\n",
              "      <th>2010</th>\n",
              "      <td>1.718201</td>\n",
              "      <td>3.130583</td>\n",
              "      <td>-1294373</td>\n",
              "      <td>2345055978</td>\n",
              "    </tr>\n",
              "    <tr>\n",
              "      <th>2011</th>\n",
              "      <td>0.822278</td>\n",
              "      <td>2.734250</td>\n",
              "      <td>-1299599</td>\n",
              "      <td>2414952109</td>\n",
              "    </tr>\n",
              "    <tr>\n",
              "      <th>2012</th>\n",
              "      <td>1.508614</td>\n",
              "      <td>1.740500</td>\n",
              "      <td>-1076573</td>\n",
              "      <td>2524320134</td>\n",
              "    </tr>\n",
              "    <tr>\n",
              "      <th>2013</th>\n",
              "      <td>1.145053</td>\n",
              "      <td>2.359000</td>\n",
              "      <td>-679775</td>\n",
              "      <td>2855059420</td>\n",
              "    </tr>\n",
              "    <tr>\n",
              "      <th>2014</th>\n",
              "      <td>1.782786</td>\n",
              "      <td>2.481333</td>\n",
              "      <td>-484793</td>\n",
              "      <td>3064301358</td>\n",
              "    </tr>\n",
              "    <tr>\n",
              "      <th>2015</th>\n",
              "      <td>2.158874</td>\n",
              "      <td>2.099167</td>\n",
              "      <td>-441960</td>\n",
              "      <td>3302677258</td>\n",
              "    </tr>\n",
              "    <tr>\n",
              "      <th>2016</th>\n",
              "      <td>0.912035</td>\n",
              "      <td>1.823333</td>\n",
              "      <td>-584651</td>\n",
              "      <td>3333449083</td>\n",
              "    </tr>\n",
              "    <tr>\n",
              "      <th>2017</th>\n",
              "      <td>1.725873</td>\n",
              "      <td>2.326833</td>\n",
              "      <td>-665446</td>\n",
              "      <td>3416714139</td>\n",
              "    </tr>\n",
              "    <tr>\n",
              "      <th>2018</th>\n",
              "      <td>2.391100</td>\n",
              "      <td>2.888917</td>\n",
              "      <td>-779137</td>\n",
              "      <td>3465466628</td>\n",
              "    </tr>\n",
              "    <tr>\n",
              "      <th>2019</th>\n",
              "      <td>1.678125</td>\n",
              "      <td>2.083250</td>\n",
              "      <td>-984388</td>\n",
              "      <td>3564583961</td>\n",
              "    </tr>\n",
              "  </tbody>\n",
              "</table>\n",
              "</div>"
            ],
            "text/plain": [
              "              PIB  Tasa_10Años  Gasto_Publico         Tax\n",
              "Periodo                                                  \n",
              "2009    -3.387436     3.277250       -1412688  2345337177\n",
              "2010     1.718201     3.130583       -1294373  2345055978\n",
              "2011     0.822278     2.734250       -1299599  2414952109\n",
              "2012     1.508614     1.740500       -1076573  2524320134\n",
              "2013     1.145053     2.359000        -679775  2855059420\n",
              "2014     1.782786     2.481333        -484793  3064301358\n",
              "2015     2.158874     2.099167        -441960  3302677258\n",
              "2016     0.912035     1.823333        -584651  3333449083\n",
              "2017     1.725873     2.326833        -665446  3416714139\n",
              "2018     2.391100     2.888917        -779137  3465466628\n",
              "2019     1.678125     2.083250        -984388  3564583961"
            ]
          },
          "execution_count": 15,
          "metadata": {},
          "output_type": "execute_result"
        }
      ]
    },
    {
      "cell_type": "code",
      "metadata": {
        "id": "koyyOu8l8FAe",
        "outputId": "e1dad917-5a5c-4e1a-c0cf-db0023529c0e"
      },
      "source": [
        "df3.corr()"
      ],
      "execution_count": null,
      "outputs": [
        {
          "data": {
            "text/html": [
              "<div>\n",
              "<style scoped>\n",
              "    .dataframe tbody tr th:only-of-type {\n",
              "        vertical-align: middle;\n",
              "    }\n",
              "\n",
              "    .dataframe tbody tr th {\n",
              "        vertical-align: top;\n",
              "    }\n",
              "\n",
              "    .dataframe thead th {\n",
              "        text-align: right;\n",
              "    }\n",
              "</style>\n",
              "<table border=\"1\" class=\"dataframe\">\n",
              "  <thead>\n",
              "    <tr style=\"text-align: right;\">\n",
              "      <th></th>\n",
              "      <th>PIB</th>\n",
              "      <th>Tasa_10Años</th>\n",
              "      <th>Gasto_Publico</th>\n",
              "      <th>Tax</th>\n",
              "    </tr>\n",
              "  </thead>\n",
              "  <tbody>\n",
              "    <tr>\n",
              "      <th>PIB</th>\n",
              "      <td>1.000000</td>\n",
              "      <td>-0.451043</td>\n",
              "      <td>0.558808</td>\n",
              "      <td>0.523706</td>\n",
              "    </tr>\n",
              "    <tr>\n",
              "      <th>Tasa_10Años</th>\n",
              "      <td>-0.451043</td>\n",
              "      <td>1.000000</td>\n",
              "      <td>-0.558198</td>\n",
              "      <td>-0.473471</td>\n",
              "    </tr>\n",
              "    <tr>\n",
              "      <th>Gasto_Publico</th>\n",
              "      <td>0.558808</td>\n",
              "      <td>-0.558198</td>\n",
              "      <td>1.000000</td>\n",
              "      <td>0.748186</td>\n",
              "    </tr>\n",
              "    <tr>\n",
              "      <th>Tax</th>\n",
              "      <td>0.523706</td>\n",
              "      <td>-0.473471</td>\n",
              "      <td>0.748186</td>\n",
              "      <td>1.000000</td>\n",
              "    </tr>\n",
              "  </tbody>\n",
              "</table>\n",
              "</div>"
            ],
            "text/plain": [
              "                    PIB  Tasa_10Años  Gasto_Publico       Tax\n",
              "PIB            1.000000    -0.451043       0.558808  0.523706\n",
              "Tasa_10Años   -0.451043     1.000000      -0.558198 -0.473471\n",
              "Gasto_Publico  0.558808    -0.558198       1.000000  0.748186\n",
              "Tax            0.523706    -0.473471       0.748186  1.000000"
            ]
          },
          "execution_count": 17,
          "metadata": {},
          "output_type": "execute_result"
        }
      ]
    },
    {
      "cell_type": "code",
      "metadata": {
        "id": "Ig8wdRMi8FAg",
        "outputId": "4ef3eea0-4e45-4b8f-a518-f0412cd079fb"
      },
      "source": [
        "plt.figure(figsize=(8,5))\n",
        "plt.title('Deficit publico')\n",
        "\n",
        "plt.xlabel('Periodo')\n",
        "plt.ylabel('Billones')\n",
        "plt.plot(df3.Gasto_Publico, 'y.-', label='Deficit')\n",
        "\n",
        "plt.legend()\n",
        "plt.show()"
      ],
      "execution_count": null,
      "outputs": [
        {
          "data": {
            "image/png": "[encoded data removed]",
            "text/plain": [
              "<Figure size 576x360 with 1 Axes>"
            ]
          },
          "metadata": {
            "needs_background": "light"
          },
          "output_type": "display_data"
        }
      ]
    },
    {
      "cell_type": "code",
      "metadata": {
        "id": "KpeQwXWj8FAi",
        "outputId": "7f340da4-eb6d-4299-b3cc-c77a7cf3683e"
      },
      "source": [
        "tasa = df3.iloc[:,1]\n",
        "tasa"
      ],
      "execution_count": null,
      "outputs": [
        {
          "data": {
            "text/plain": [
              "Periodo\n",
              "2009    3.277250\n",
              "2010    3.130583\n",
              "2011    2.734250\n",
              "2012    1.740500\n",
              "2013    2.359000\n",
              "2014    2.481333\n",
              "2015    2.099167\n",
              "2016    1.823333\n",
              "2017    2.326833\n",
              "2018    2.888917\n",
              "2019    2.083250\n",
              "Name: Tasa_10Años, dtype: float64"
            ]
          },
          "execution_count": 29,
          "metadata": {},
          "output_type": "execute_result"
        }
      ]
    },
    {
      "cell_type": "code",
      "metadata": {
        "id": "7lVUZjeS8FAk",
        "outputId": "fda2ca57-f7bd-4bf7-e881-6bdce72fa805"
      },
      "source": [
        "plt.figure(figsize=(8,5))\n",
        "plt.title('Tasa de interes a 10 años mas PIB')\n",
        "\n",
        "plt.xlabel('Periodo')\n",
        "plt.ylabel('Tasa %')\n",
        "plt.plot(df3.PIB, 'b.-', label='PIB')\n",
        "plt.plot(tasa, 'r.-', label='Tasa de Interes')\n",
        "\n",
        "plt.legend()\n",
        "plt.show()"
      ],
      "execution_count": null,
      "outputs": [
        {
          "data": {
            "image/png": "[encoded data removed]",
            "text/plain": [
              "<Figure size 576x360 with 1 Axes>"
            ]
          },
          "metadata": {
            "needs_background": "light"
          },
          "output_type": "display_data"
        }
      ]
    },
    {
      "cell_type": "code",
      "metadata": {
        "id": "pN4kAIaU8FAm",
        "outputId": "d6c8117c-75e9-40e5-86b8-dd6be0e29a56"
      },
      "source": [
        "plt.figure(figsize=(8,5))\n",
        "plt.title('Recoleccion de Impuestos')\n",
        "\n",
        "plt.xlabel('Periodo')\n",
        "plt.ylabel('Billones')\n",
        "plt.plot(df3.Tax, 'g.-', label='Recoleccion')\n",
        "\n",
        "plt.legend()\n",
        "plt.show()"
      ],
      "execution_count": null,
      "outputs": [
        {
          "data": {
            "image/png": "[encoded data removed]",
            "text/plain": [
              "<Figure size 576x360 with 1 Axes>"
            ]
          },
          "metadata": {
            "needs_background": "light"
          },
          "output_type": "display_data"
        }
      ]
    },
    {
      "cell_type": "code",
      "metadata": {
        "id": "8YhVIJrl8FAp",
        "outputId": "a79522ec-06a1-4919-c598-b0731474f713"
      },
      "source": [
        "y = df3.PIB\n",
        "x = tasa\n",
        "sns.regplot(x, y,scatter_kws={\"alpha\": 0.5})\n",
        "plt.title('Correlación PIB VS Tasa de interes a 10 Años')\n",
        "plt.show()"
      ],
      "execution_count": null,
      "outputs": [
        {
          "data": {
            "image/png": "[encoded data removed]",
            "text/plain": [
              "<Figure size 432x288 with 1 Axes>"
            ]
          },
          "metadata": {
            "needs_background": "light"
          },
          "output_type": "display_data"
        }
      ]
    },
    {
      "cell_type": "code",
      "metadata": {
        "id": "DEMajVbl8FAq",
        "outputId": "e4750f1f-cac4-4e4c-c28b-c92283518e37"
      },
      "source": [
        "y = df3.PIB\n",
        "x = df3.Gasto_Publico\n",
        "sns.regplot(x, y,scatter_kws={\"alpha\": 0.5})\n",
        "plt.title('Correlación PIB VS Deficit')\n",
        "plt.show()"
      ],
      "execution_count": null,
      "outputs": [
        {
          "data": {
            "image/png": "[encoded data removed]",
            "text/plain": [
              "<Figure size 432x288 with 1 Axes>"
            ]
          },
          "metadata": {
            "needs_background": "light"
          },
          "output_type": "display_data"
        }
      ]
    },
    {
      "cell_type": "code",
      "metadata": {
        "id": "r8ZEXdQZ8FAs",
        "outputId": "4adf2c7b-881a-4d5d-9c26-713033a38315"
      },
      "source": [
        "y = df3.PIB\n",
        "x = df3.Tax\n",
        "sns.regplot(x, y,scatter_kws={\"alpha\": 0.5})\n",
        "plt.title('Correlacion PIB vs Impuestos')\n",
        "plt.show()"
      ],
      "execution_count": null,
      "outputs": [
        {
          "data": {
            "image/png": "[encoded data removed]",
            "text/plain": [
              "<Figure size 432x288 with 1 Axes>"
            ]
          },
          "metadata": {
            "needs_background": "light"
          },
          "output_type": "display_data"
        }
      ]
    },
    {
      "cell_type": "code",
      "metadata": {
        "id": "R8uiiA6A8FAt",
        "outputId": "ae7bbff0-d8ef-4196-a3a2-6e01dbe22a4c"
      },
      "source": [
        "y = df3.Tax\n",
        "x = df3.Gasto_Publico\n",
        "sns.regplot(x, y,scatter_kws={\"alpha\": 0.5})\n",
        "plt.title('Correlacion Gasto Publico vs Impuestos')\n",
        "plt.show()"
      ],
      "execution_count": null,
      "outputs": [
        {
          "data": {
            "image/png": "[encoded data removed]",
            "text/plain": [
              "<Figure size 432x288 with 1 Axes>"
            ]
          },
          "metadata": {
            "needs_background": "light"
          },
          "output_type": "display_data"
        }
      ]
    },
    {
      "cell_type": "code",
      "metadata": {
        "id": "j499N6yK8FAv",
        "outputId": "32171e92-f62c-4b4b-88e6-9fe223a4c3d4"
      },
      "source": [
        "tasa.describe()"
      ],
      "execution_count": null,
      "outputs": [
        {
          "data": {
            "text/plain": [
              "count    11.000000\n",
              "mean      2.449492\n",
              "std       0.509814\n",
              "min       1.740500\n",
              "25%       2.091209\n",
              "50%       2.359000\n",
              "75%       2.811584\n",
              "max       3.277250\n",
              "Name: Tasa_10Años, dtype: float64"
            ]
          },
          "execution_count": 27,
          "metadata": {},
          "output_type": "execute_result"
        }
      ]
    },
    {
      "cell_type": "code",
      "metadata": {
        "id": "VBDc0Fpp8FAw",
        "outputId": "6c401001-7583-4bfe-d894-8ecd3b4bdba1"
      },
      "source": [
        "df3.PIB.describe()"
      ],
      "execution_count": null,
      "outputs": [
        {
          "data": {
            "text/plain": [
              "count    11.000000\n",
              "mean      1.132318\n",
              "std       1.573833\n",
              "min      -3.387436\n",
              "25%       1.028544\n",
              "50%       1.678125\n",
              "75%       1.754329\n",
              "max       2.391100\n",
              "Name: PIB, dtype: float64"
            ]
          },
          "execution_count": 54,
          "metadata": {},
          "output_type": "execute_result"
        }
      ]
    },
    {
      "cell_type": "code",
      "metadata": {
        "id": "2DJ7Fo_c8FAy",
        "outputId": "34aba769-ba46-44a9-e65c-a73ce3e43f33"
      },
      "source": [
        "df3.Gasto_Publico.describe()"
      ],
      "execution_count": null,
      "outputs": [
        {
          "data": {
            "text/plain": [
              "count    1.100000e+01\n",
              "mean    -8.821257e+05\n",
              "std      3.482253e+05\n",
              "min     -1.412688e+06\n",
              "25%     -1.185473e+06\n",
              "50%     -7.791370e+05\n",
              "75%     -6.250485e+05\n",
              "max     -4.419600e+05\n",
              "Name: Gasto_Publico, dtype: float64"
            ]
          },
          "execution_count": 56,
          "metadata": {},
          "output_type": "execute_result"
        }
      ]
    },
    {
      "cell_type": "code",
      "metadata": {
        "id": "ooudOevG8FAz",
        "outputId": "b8cc0d28-dd0c-4172-ec2d-ca2e652745fe"
      },
      "source": [
        "df3.Tax.describe()"
      ],
      "execution_count": null,
      "outputs": [
        {
          "data": {
            "text/plain": [
              "count    1.100000e+01\n",
              "mean     2.966538e+09\n",
              "std      4.848484e+08\n",
              "min      2.345056e+09\n",
              "25%      2.469636e+09\n",
              "50%      3.064301e+09\n",
              "75%      3.375082e+09\n",
              "max      3.564584e+09\n",
              "Name: Tax, dtype: float64"
            ]
          },
          "execution_count": 94,
          "metadata": {},
          "output_type": "execute_result"
        }
      ]
    },
    {
      "cell_type": "code",
      "metadata": {
        "id": "mmTxdxok8FA0",
        "outputId": "d12cd589-10aa-4859-f2d7-a6ee63630728"
      },
      "source": [
        "sns.boxplot(df3.PIB, data=df3).set(title='PIB')\n",
        "plt.show()"
      ],
      "execution_count": null,
      "outputs": [
        {
          "data": {
            "image/png": "[encoded data removed]",
            "text/plain": [
              "<Figure size 432x288 with 1 Axes>"
            ]
          },
          "metadata": {
            "needs_background": "light"
          },
          "output_type": "display_data"
        }
      ]
    },
    {
      "cell_type": "code",
      "metadata": {
        "id": "gBP0o0rk8FA5",
        "outputId": "309d16e1-4b86-42a0-b4a4-d6496fa2d5ca"
      },
      "source": [
        "sns.boxplot(df3.Gasto_Publico, data=df3).set(title='Deficit')\n",
        "plt.show()"
      ],
      "execution_count": null,
      "outputs": [
        {
          "data": {
            "image/png": "[encoded data removed]",
            "text/plain": [
              "<Figure size 432x288 with 1 Axes>"
            ]
          },
          "metadata": {
            "needs_background": "light"
          },
          "output_type": "display_data"
        }
      ]
    },
    {
      "cell_type": "code",
      "metadata": {
        "id": "2VGkrW6I8FA7",
        "outputId": "d088a30e-c686-45c7-f38e-c7d2d37b12d6"
      },
      "source": [
        "sns.boxplot(tasa, data=df3).set(title='Tasa de interes a 10 años')\n",
        "plt.show()"
      ],
      "execution_count": null,
      "outputs": [
        {
          "data": {
            "image/png": "[encoded data removed]",
            "text/plain": [
              "<Figure size 432x288 with 1 Axes>"
            ]
          },
          "metadata": {
            "needs_background": "light"
          },
          "output_type": "display_data"
        }
      ]
    },
    {
      "cell_type": "code",
      "metadata": {
        "id": "GhidXM9k8FA9",
        "outputId": "8d317464-0e7d-44f2-d26d-797c713cb4de"
      },
      "source": [
        "sns.boxplot(df3.Tax, data=df3).set(title='Recoleccion de Impuestos')\n",
        "plt.show()"
      ],
      "execution_count": null,
      "outputs": [
        {
          "data": {
            "image/png": "[encoded data removed]",
            "text/plain": [
              "<Figure size 432x288 with 1 Axes>"
            ]
          },
          "metadata": {
            "needs_background": "light"
          },
          "output_type": "display_data"
        }
      ]
    }
  ]
}