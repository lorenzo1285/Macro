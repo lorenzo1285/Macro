{
  "nbformat": 4,
  "nbformat_minor": 0,
  "metadata": {
    "kernelspec": {
      "display_name": "Python 3",
      "language": "python",
      "name": "python3"
    },
    "language_info": {
      "codemirror_mode": {
        "name": "ipython",
        "version": 3
      },
      "file_extension": ".py",
      "mimetype": "text/x-python",
      "name": "python",
      "nbconvert_exporter": "python",
      "pygments_lexer": "ipython3",
      "version": "3.7.3"
    },
    "colab": {
      "name": "Analisis_Macro_Cuentacorriente.ipynb",
      "provenance": [],
      "include_colab_link": true
    }
  },
  "cells": [
    {
      "cell_type": "markdown",
      "metadata": {
        "id": "view-in-github",
        "colab_type": "text"
      },
      "source": [
        "<a href=\"https://colab.research.google.com/github/lorenzo1285/Macro/blob/main/Analisis_Macro_Cuentacorriente.ipynb\" target=\"_parent\"><img src=\"https://colab.research.google.com/assets/colab-badge.svg\" alt=\"Open In Colab\"/></a>"
      ]
    },
    {
      "cell_type": "code",
      "metadata": {
        "id": "bymfpuBs7QIP"
      },
      "source": [
        "%matplotlib inline\n",
        "import matplotlib.pyplot as plt\n",
        "import seaborn as sns\n",
        "import pandas as pd\n",
        "import statsmodels.api as sm\n",
        "import numpy as np\n",
        "sns.set_style('whitegrid')"
      ],
      "execution_count": null,
      "outputs": []
    },
    {
      "cell_type": "code",
      "metadata": {
        "id": "D-Xbw9jv7QJP",
        "outputId": "767ef3ab-63e7-47ac-eaf7-1baf0d6e8e24"
      },
      "source": [
        "df = pd.read_excel('balanza+pib (1).xlsx')\n",
        "df"
      ],
      "execution_count": null,
      "outputs": [
        {
          "data": {
            "text/html": [
              "<div>\n",
              "<style scoped>\n",
              "    .dataframe tbody tr th:only-of-type {\n",
              "        vertical-align: middle;\n",
              "    }\n",
              "\n",
              "    .dataframe tbody tr th {\n",
              "        vertical-align: top;\n",
              "    }\n",
              "\n",
              "    .dataframe thead th {\n",
              "        text-align: right;\n",
              "    }\n",
              "</style>\n",
              "<table border=\"1\" class=\"dataframe\">\n",
              "  <thead>\n",
              "    <tr style=\"text-align: right;\">\n",
              "      <th></th>\n",
              "      <th>Trimestre</th>\n",
              "      <th>cor_Ingresos</th>\n",
              "      <th>cor_Egresos</th>\n",
              "      <th>Importaciones</th>\n",
              "      <th>Exportaciones</th>\n",
              "      <th>cap_credito</th>\n",
              "      <th>cap_debito</th>\n",
              "      <th>inversion_directa</th>\n",
              "      <th>inversion_cartera</th>\n",
              "      <th>pib</th>\n",
              "    </tr>\n",
              "  </thead>\n",
              "  <tbody>\n",
              "    <tr>\n",
              "      <th>0</th>\n",
              "      <td>Q4-2019</td>\n",
              "      <td>137466.8</td>\n",
              "      <td>134269.6</td>\n",
              "      <td>113756.613</td>\n",
              "      <td>116969.891</td>\n",
              "      <td>41.6</td>\n",
              "      <td>52.1</td>\n",
              "      <td>-1823.0</td>\n",
              "      <td>1997.7</td>\n",
              "      <td>-1.1</td>\n",
              "    </tr>\n",
              "    <tr>\n",
              "      <th>1</th>\n",
              "      <td>Q1-2020</td>\n",
              "      <td>128154.9</td>\n",
              "      <td>135681.4</td>\n",
              "      <td>104799.813</td>\n",
              "      <td>108522.241</td>\n",
              "      <td>86.1</td>\n",
              "      <td>96.7</td>\n",
              "      <td>-16064.2</td>\n",
              "      <td>-2431.6</td>\n",
              "      <td>-1.0</td>\n",
              "    </tr>\n",
              "    <tr>\n",
              "      <th>2</th>\n",
              "      <td>Q2-2020</td>\n",
              "      <td>88785.9</td>\n",
              "      <td>89223.0</td>\n",
              "      <td>75594.403</td>\n",
              "      <td>74531.045</td>\n",
              "      <td>47.2</td>\n",
              "      <td>52.3</td>\n",
              "      <td>-2214.3</td>\n",
              "      <td>7224.0</td>\n",
              "      <td>-16.8</td>\n",
              "    </tr>\n",
              "    <tr>\n",
              "      <th>3</th>\n",
              "      <td>Q3-2020</td>\n",
              "      <td>127218.6</td>\n",
              "      <td>110093.3</td>\n",
              "      <td>94889.572</td>\n",
              "      <td>111188.715</td>\n",
              "      <td>62.1</td>\n",
              "      <td>69.1</td>\n",
              "      <td>-2278.8</td>\n",
              "      <td>2231.2</td>\n",
              "      <td>12.4</td>\n",
              "    </tr>\n",
              "    <tr>\n",
              "      <th>4</th>\n",
              "      <td>Q4-2020</td>\n",
              "      <td>140006.6</td>\n",
              "      <td>122597.8</td>\n",
              "      <td>107910.065</td>\n",
              "      <td>123428.294</td>\n",
              "      <td>46.8</td>\n",
              "      <td>54.7</td>\n",
              "      <td>-1994.0</td>\n",
              "      <td>3719.7</td>\n",
              "      <td>3.3</td>\n",
              "    </tr>\n",
              "  </tbody>\n",
              "</table>\n",
              "</div>"
            ],
            "text/plain": [
              "  Trimestre  cor_Ingresos  cor_Egresos  Importaciones  Exportaciones  \\\n",
              "0   Q4-2019      137466.8     134269.6     113756.613     116969.891   \n",
              "1   Q1-2020      128154.9     135681.4     104799.813     108522.241   \n",
              "2   Q2-2020       88785.9      89223.0      75594.403      74531.045   \n",
              "3   Q3-2020      127218.6     110093.3      94889.572     111188.715   \n",
              "4   Q4-2020      140006.6     122597.8     107910.065     123428.294   \n",
              "\n",
              "   cap_credito  cap_debito  inversion_directa  inversion_cartera   pib  \n",
              "0         41.6        52.1            -1823.0             1997.7  -1.1  \n",
              "1         86.1        96.7           -16064.2            -2431.6  -1.0  \n",
              "2         47.2        52.3            -2214.3             7224.0 -16.8  \n",
              "3         62.1        69.1            -2278.8             2231.2  12.4  \n",
              "4         46.8        54.7            -1994.0             3719.7   3.3  "
            ]
          },
          "execution_count": 40,
          "metadata": {},
          "output_type": "execute_result"
        }
      ]
    },
    {
      "cell_type": "code",
      "metadata": {
        "id": "e6IrvKn-7QJZ",
        "outputId": "087a138e-b45d-47e2-a800-85c4b9b34739"
      },
      "source": [
        "df.set_index('Trimestre', inplace=True)\n",
        "df"
      ],
      "execution_count": null,
      "outputs": [
        {
          "data": {
            "text/html": [
              "<div>\n",
              "<style scoped>\n",
              "    .dataframe tbody tr th:only-of-type {\n",
              "        vertical-align: middle;\n",
              "    }\n",
              "\n",
              "    .dataframe tbody tr th {\n",
              "        vertical-align: top;\n",
              "    }\n",
              "\n",
              "    .dataframe thead th {\n",
              "        text-align: right;\n",
              "    }\n",
              "</style>\n",
              "<table border=\"1\" class=\"dataframe\">\n",
              "  <thead>\n",
              "    <tr style=\"text-align: right;\">\n",
              "      <th></th>\n",
              "      <th>cor_Ingresos</th>\n",
              "      <th>cor_Egresos</th>\n",
              "      <th>Importaciones</th>\n",
              "      <th>Exportaciones</th>\n",
              "      <th>cap_credito</th>\n",
              "      <th>cap_debito</th>\n",
              "      <th>inversion_directa</th>\n",
              "      <th>inversion_cartera</th>\n",
              "      <th>pib</th>\n",
              "    </tr>\n",
              "    <tr>\n",
              "      <th>Trimestre</th>\n",
              "      <th></th>\n",
              "      <th></th>\n",
              "      <th></th>\n",
              "      <th></th>\n",
              "      <th></th>\n",
              "      <th></th>\n",
              "      <th></th>\n",
              "      <th></th>\n",
              "      <th></th>\n",
              "    </tr>\n",
              "  </thead>\n",
              "  <tbody>\n",
              "    <tr>\n",
              "      <th>Q4-2019</th>\n",
              "      <td>137466.8</td>\n",
              "      <td>134269.6</td>\n",
              "      <td>113756.613</td>\n",
              "      <td>116969.891</td>\n",
              "      <td>41.6</td>\n",
              "      <td>52.1</td>\n",
              "      <td>-1823.0</td>\n",
              "      <td>1997.7</td>\n",
              "      <td>-1.1</td>\n",
              "    </tr>\n",
              "    <tr>\n",
              "      <th>Q1-2020</th>\n",
              "      <td>128154.9</td>\n",
              "      <td>135681.4</td>\n",
              "      <td>104799.813</td>\n",
              "      <td>108522.241</td>\n",
              "      <td>86.1</td>\n",
              "      <td>96.7</td>\n",
              "      <td>-16064.2</td>\n",
              "      <td>-2431.6</td>\n",
              "      <td>-1.0</td>\n",
              "    </tr>\n",
              "    <tr>\n",
              "      <th>Q2-2020</th>\n",
              "      <td>88785.9</td>\n",
              "      <td>89223.0</td>\n",
              "      <td>75594.403</td>\n",
              "      <td>74531.045</td>\n",
              "      <td>47.2</td>\n",
              "      <td>52.3</td>\n",
              "      <td>-2214.3</td>\n",
              "      <td>7224.0</td>\n",
              "      <td>-16.8</td>\n",
              "    </tr>\n",
              "    <tr>\n",
              "      <th>Q3-2020</th>\n",
              "      <td>127218.6</td>\n",
              "      <td>110093.3</td>\n",
              "      <td>94889.572</td>\n",
              "      <td>111188.715</td>\n",
              "      <td>62.1</td>\n",
              "      <td>69.1</td>\n",
              "      <td>-2278.8</td>\n",
              "      <td>2231.2</td>\n",
              "      <td>12.4</td>\n",
              "    </tr>\n",
              "    <tr>\n",
              "      <th>Q4-2020</th>\n",
              "      <td>140006.6</td>\n",
              "      <td>122597.8</td>\n",
              "      <td>107910.065</td>\n",
              "      <td>123428.294</td>\n",
              "      <td>46.8</td>\n",
              "      <td>54.7</td>\n",
              "      <td>-1994.0</td>\n",
              "      <td>3719.7</td>\n",
              "      <td>3.3</td>\n",
              "    </tr>\n",
              "  </tbody>\n",
              "</table>\n",
              "</div>"
            ],
            "text/plain": [
              "           cor_Ingresos  cor_Egresos  Importaciones  Exportaciones  \\\n",
              "Trimestre                                                            \n",
              "Q4-2019        137466.8     134269.6     113756.613     116969.891   \n",
              "Q1-2020        128154.9     135681.4     104799.813     108522.241   \n",
              "Q2-2020         88785.9      89223.0      75594.403      74531.045   \n",
              "Q3-2020        127218.6     110093.3      94889.572     111188.715   \n",
              "Q4-2020        140006.6     122597.8     107910.065     123428.294   \n",
              "\n",
              "           cap_credito  cap_debito  inversion_directa  inversion_cartera   pib  \n",
              "Trimestre                                                                       \n",
              "Q4-2019           41.6        52.1            -1823.0             1997.7  -1.1  \n",
              "Q1-2020           86.1        96.7           -16064.2            -2431.6  -1.0  \n",
              "Q2-2020           47.2        52.3            -2214.3             7224.0 -16.8  \n",
              "Q3-2020           62.1        69.1            -2278.8             2231.2  12.4  \n",
              "Q4-2020           46.8        54.7            -1994.0             3719.7   3.3  "
            ]
          },
          "execution_count": 41,
          "metadata": {},
          "output_type": "execute_result"
        }
      ]
    },
    {
      "cell_type": "code",
      "metadata": {
        "id": "eFpr2At-7QJc",
        "outputId": "4e418bc1-09c3-4b21-ce06-2cd1b5bb12fb"
      },
      "source": [
        "plt.figure(figsize=(7,4))\n",
        "plt.title('Ingresos y Egresos de la Cuenta Corriente')\n",
        "\n",
        "plt.xlabel('Trimestre')\n",
        "plt.ylabel('Millones de Dolares')\n",
        "plt.plot(df['cor_Ingresos'], 'b.-', label='Ingresos')\n",
        "plt.plot(df['cor_Egresos'], 'r.-', label='Egresos')\n",
        "plt.legend()\n",
        "plt.show()"
      ],
      "execution_count": null,
      "outputs": [
        {
          "data": {
            "image/png": "[encoded data removed]",
            "text/plain": [
              "<Figure size 504x288 with 1 Axes>"
            ]
          },
          "metadata": {},
          "output_type": "display_data"
        }
      ]
    },
    {
      "cell_type": "code",
      "metadata": {
        "id": "GQs2MyZi7QJe",
        "outputId": "5e032d91-5c89-4060-aac3-d2bc544ab285"
      },
      "source": [
        "df[['cor_Ingresos','cor_Egresos']]"
      ],
      "execution_count": null,
      "outputs": [
        {
          "data": {
            "text/html": [
              "<div>\n",
              "<style scoped>\n",
              "    .dataframe tbody tr th:only-of-type {\n",
              "        vertical-align: middle;\n",
              "    }\n",
              "\n",
              "    .dataframe tbody tr th {\n",
              "        vertical-align: top;\n",
              "    }\n",
              "\n",
              "    .dataframe thead th {\n",
              "        text-align: right;\n",
              "    }\n",
              "</style>\n",
              "<table border=\"1\" class=\"dataframe\">\n",
              "  <thead>\n",
              "    <tr style=\"text-align: right;\">\n",
              "      <th></th>\n",
              "      <th>cor_Ingresos</th>\n",
              "      <th>cor_Egresos</th>\n",
              "    </tr>\n",
              "    <tr>\n",
              "      <th>Trimestre</th>\n",
              "      <th></th>\n",
              "      <th></th>\n",
              "    </tr>\n",
              "  </thead>\n",
              "  <tbody>\n",
              "    <tr>\n",
              "      <th>Q4-2019</th>\n",
              "      <td>137466.8</td>\n",
              "      <td>134269.6</td>\n",
              "    </tr>\n",
              "    <tr>\n",
              "      <th>Q1-2020</th>\n",
              "      <td>128154.9</td>\n",
              "      <td>135681.4</td>\n",
              "    </tr>\n",
              "    <tr>\n",
              "      <th>Q2-2020</th>\n",
              "      <td>88785.9</td>\n",
              "      <td>89223.0</td>\n",
              "    </tr>\n",
              "    <tr>\n",
              "      <th>Q3-2020</th>\n",
              "      <td>127218.6</td>\n",
              "      <td>110093.3</td>\n",
              "    </tr>\n",
              "    <tr>\n",
              "      <th>Q4-2020</th>\n",
              "      <td>140006.6</td>\n",
              "      <td>122597.8</td>\n",
              "    </tr>\n",
              "  </tbody>\n",
              "</table>\n",
              "</div>"
            ],
            "text/plain": [
              "           cor_Ingresos  cor_Egresos\n",
              "Trimestre                           \n",
              "Q4-2019        137466.8     134269.6\n",
              "Q1-2020        128154.9     135681.4\n",
              "Q2-2020         88785.9      89223.0\n",
              "Q3-2020        127218.6     110093.3\n",
              "Q4-2020        140006.6     122597.8"
            ]
          },
          "execution_count": 43,
          "metadata": {},
          "output_type": "execute_result"
        }
      ]
    },
    {
      "cell_type": "code",
      "metadata": {
        "id": "ohS7qZoF7QJg",
        "outputId": "c06766c9-388a-4f8a-d82f-9efcdae40a4c"
      },
      "source": [
        "df.corr()"
      ],
      "execution_count": null,
      "outputs": [
        {
          "data": {
            "text/html": [
              "<div>\n",
              "<style scoped>\n",
              "    .dataframe tbody tr th:only-of-type {\n",
              "        vertical-align: middle;\n",
              "    }\n",
              "\n",
              "    .dataframe tbody tr th {\n",
              "        vertical-align: top;\n",
              "    }\n",
              "\n",
              "    .dataframe thead th {\n",
              "        text-align: right;\n",
              "    }\n",
              "</style>\n",
              "<table border=\"1\" class=\"dataframe\">\n",
              "  <thead>\n",
              "    <tr style=\"text-align: right;\">\n",
              "      <th></th>\n",
              "      <th>cor_Ingresos</th>\n",
              "      <th>cor_Egresos</th>\n",
              "      <th>Importaciones</th>\n",
              "      <th>Exportaciones</th>\n",
              "      <th>cap_credito</th>\n",
              "      <th>cap_debito</th>\n",
              "      <th>inversion_directa</th>\n",
              "      <th>inversion_cartera</th>\n",
              "      <th>pib</th>\n",
              "    </tr>\n",
              "  </thead>\n",
              "  <tbody>\n",
              "    <tr>\n",
              "      <th>cor_Ingresos</th>\n",
              "      <td>1.000000</td>\n",
              "      <td>0.849691</td>\n",
              "      <td>0.952041</td>\n",
              "      <td>0.994851</td>\n",
              "      <td>0.075059</td>\n",
              "      <td>0.160979</td>\n",
              "      <td>-0.086336</td>\n",
              "      <td>-0.609104</td>\n",
              "      <td>0.763374</td>\n",
              "    </tr>\n",
              "    <tr>\n",
              "      <th>cor_Egresos</th>\n",
              "      <td>0.849691</td>\n",
              "      <td>1.000000</td>\n",
              "      <td>0.943592</td>\n",
              "      <td>0.795540</td>\n",
              "      <td>0.328897</td>\n",
              "      <td>0.432347</td>\n",
              "      <td>-0.480563</td>\n",
              "      <td>-0.833018</td>\n",
              "      <td>0.448928</td>\n",
              "    </tr>\n",
              "    <tr>\n",
              "      <th>Importaciones</th>\n",
              "      <td>0.952041</td>\n",
              "      <td>0.943592</td>\n",
              "      <td>1.000000</td>\n",
              "      <td>0.919742</td>\n",
              "      <td>0.054981</td>\n",
              "      <td>0.159622</td>\n",
              "      <td>-0.179333</td>\n",
              "      <td>-0.647056</td>\n",
              "      <td>0.554768</td>\n",
              "    </tr>\n",
              "    <tr>\n",
              "      <th>Exportaciones</th>\n",
              "      <td>0.994851</td>\n",
              "      <td>0.795540</td>\n",
              "      <td>0.919742</td>\n",
              "      <td>1.000000</td>\n",
              "      <td>0.045576</td>\n",
              "      <td>0.124157</td>\n",
              "      <td>-0.031106</td>\n",
              "      <td>-0.555839</td>\n",
              "      <td>0.795381</td>\n",
              "    </tr>\n",
              "    <tr>\n",
              "      <th>cap_credito</th>\n",
              "      <td>0.075059</td>\n",
              "      <td>0.328897</td>\n",
              "      <td>0.054981</td>\n",
              "      <td>0.045576</td>\n",
              "      <td>1.000000</td>\n",
              "      <td>0.993356</td>\n",
              "      <td>-0.915857</td>\n",
              "      <td>-0.777456</td>\n",
              "      <td>0.236920</td>\n",
              "    </tr>\n",
              "    <tr>\n",
              "      <th>cap_debito</th>\n",
              "      <td>0.160979</td>\n",
              "      <td>0.432347</td>\n",
              "      <td>0.159622</td>\n",
              "      <td>0.124157</td>\n",
              "      <td>0.993356</td>\n",
              "      <td>1.000000</td>\n",
              "      <td>-0.935954</td>\n",
              "      <td>-0.841775</td>\n",
              "      <td>0.263605</td>\n",
              "    </tr>\n",
              "    <tr>\n",
              "      <th>inversion_directa</th>\n",
              "      <td>-0.086336</td>\n",
              "      <td>-0.480563</td>\n",
              "      <td>-0.179333</td>\n",
              "      <td>-0.031106</td>\n",
              "      <td>-0.915857</td>\n",
              "      <td>-0.935954</td>\n",
              "      <td>1.000000</td>\n",
              "      <td>0.792545</td>\n",
              "      <td>0.018264</td>\n",
              "    </tr>\n",
              "    <tr>\n",
              "      <th>inversion_cartera</th>\n",
              "      <td>-0.609104</td>\n",
              "      <td>-0.833018</td>\n",
              "      <td>-0.647056</td>\n",
              "      <td>-0.555839</td>\n",
              "      <td>-0.777456</td>\n",
              "      <td>-0.841775</td>\n",
              "      <td>0.792545</td>\n",
              "      <td>1.000000</td>\n",
              "      <td>-0.496305</td>\n",
              "    </tr>\n",
              "    <tr>\n",
              "      <th>pib</th>\n",
              "      <td>0.763374</td>\n",
              "      <td>0.448928</td>\n",
              "      <td>0.554768</td>\n",
              "      <td>0.795381</td>\n",
              "      <td>0.236920</td>\n",
              "      <td>0.263605</td>\n",
              "      <td>0.018264</td>\n",
              "      <td>-0.496305</td>\n",
              "      <td>1.000000</td>\n",
              "    </tr>\n",
              "  </tbody>\n",
              "</table>\n",
              "</div>"
            ],
            "text/plain": [
              "                   cor_Ingresos  cor_Egresos  Importaciones  Exportaciones  \\\n",
              "cor_Ingresos           1.000000     0.849691       0.952041       0.994851   \n",
              "cor_Egresos            0.849691     1.000000       0.943592       0.795540   \n",
              "Importaciones          0.952041     0.943592       1.000000       0.919742   \n",
              "Exportaciones          0.994851     0.795540       0.919742       1.000000   \n",
              "cap_credito            0.075059     0.328897       0.054981       0.045576   \n",
              "cap_debito             0.160979     0.432347       0.159622       0.124157   \n",
              "inversion_directa     -0.086336    -0.480563      -0.179333      -0.031106   \n",
              "inversion_cartera     -0.609104    -0.833018      -0.647056      -0.555839   \n",
              "pib                    0.763374     0.448928       0.554768       0.795381   \n",
              "\n",
              "                   cap_credito  cap_debito  inversion_directa  \\\n",
              "cor_Ingresos          0.075059    0.160979          -0.086336   \n",
              "cor_Egresos           0.328897    0.432347          -0.480563   \n",
              "Importaciones         0.054981    0.159622          -0.179333   \n",
              "Exportaciones         0.045576    0.124157          -0.031106   \n",
              "cap_credito           1.000000    0.993356          -0.915857   \n",
              "cap_debito            0.993356    1.000000          -0.935954   \n",
              "inversion_directa    -0.915857   -0.935954           1.000000   \n",
              "inversion_cartera    -0.777456   -0.841775           0.792545   \n",
              "pib                   0.236920    0.263605           0.018264   \n",
              "\n",
              "                   inversion_cartera       pib  \n",
              "cor_Ingresos               -0.609104  0.763374  \n",
              "cor_Egresos                -0.833018  0.448928  \n",
              "Importaciones              -0.647056  0.554768  \n",
              "Exportaciones              -0.555839  0.795381  \n",
              "cap_credito                -0.777456  0.236920  \n",
              "cap_debito                 -0.841775  0.263605  \n",
              "inversion_directa           0.792545  0.018264  \n",
              "inversion_cartera           1.000000 -0.496305  \n",
              "pib                        -0.496305  1.000000  "
            ]
          },
          "execution_count": 44,
          "metadata": {},
          "output_type": "execute_result"
        }
      ]
    },
    {
      "cell_type": "code",
      "metadata": {
        "id": "vkj7tBr97QJi",
        "outputId": "5ec9e3f2-0ecf-43af-8913-6f301e436d73"
      },
      "source": [
        "total_ing = df['cor_Ingresos'].sum(axis=0)\n",
        "total_ing"
      ],
      "execution_count": null,
      "outputs": [
        {
          "data": {
            "text/plain": [
              "621632.7999999999"
            ]
          },
          "execution_count": 45,
          "metadata": {},
          "output_type": "execute_result"
        }
      ]
    },
    {
      "cell_type": "code",
      "metadata": {
        "id": "J402ktwH7QJk",
        "outputId": "39c03951-de3c-4f45-cf29-277f0f4da6da"
      },
      "source": [
        "total_egr = df['cor_Egresos'].sum(axis=0)\n",
        "total_egr"
      ],
      "execution_count": null,
      "outputs": [
        {
          "data": {
            "text/plain": [
              "591865.1"
            ]
          },
          "execution_count": 46,
          "metadata": {},
          "output_type": "execute_result"
        }
      ]
    },
    {
      "cell_type": "code",
      "metadata": {
        "id": "pFIkWb3p7QJm",
        "outputId": "822a2ca1-1fc2-4545-eae9-e6374500b707"
      },
      "source": [
        "superavit = total_ing-total_egr\n",
        "superavit"
      ],
      "execution_count": null,
      "outputs": [
        {
          "data": {
            "text/plain": [
              "29767.699999999953"
            ]
          },
          "execution_count": 47,
          "metadata": {},
          "output_type": "execute_result"
        }
      ]
    },
    {
      "cell_type": "code",
      "metadata": {
        "id": "rU_As-Xo7QJr",
        "outputId": "a2992a8b-25e4-4931-ba19-219319b08df0"
      },
      "source": [
        "df['cor_Saldo'] = df['cor_Ingresos']-df['cor_Egresos']\n",
        "df['cor_Saldo'].to_frame()"
      ],
      "execution_count": null,
      "outputs": [
        {
          "data": {
            "text/html": [
              "<div>\n",
              "<style scoped>\n",
              "    .dataframe tbody tr th:only-of-type {\n",
              "        vertical-align: middle;\n",
              "    }\n",
              "\n",
              "    .dataframe tbody tr th {\n",
              "        vertical-align: top;\n",
              "    }\n",
              "\n",
              "    .dataframe thead th {\n",
              "        text-align: right;\n",
              "    }\n",
              "</style>\n",
              "<table border=\"1\" class=\"dataframe\">\n",
              "  <thead>\n",
              "    <tr style=\"text-align: right;\">\n",
              "      <th></th>\n",
              "      <th>cor_Saldo</th>\n",
              "    </tr>\n",
              "    <tr>\n",
              "      <th>Trimestre</th>\n",
              "      <th></th>\n",
              "    </tr>\n",
              "  </thead>\n",
              "  <tbody>\n",
              "    <tr>\n",
              "      <th>Q4-2019</th>\n",
              "      <td>3197.2</td>\n",
              "    </tr>\n",
              "    <tr>\n",
              "      <th>Q1-2020</th>\n",
              "      <td>-7526.5</td>\n",
              "    </tr>\n",
              "    <tr>\n",
              "      <th>Q2-2020</th>\n",
              "      <td>-437.1</td>\n",
              "    </tr>\n",
              "    <tr>\n",
              "      <th>Q3-2020</th>\n",
              "      <td>17125.3</td>\n",
              "    </tr>\n",
              "    <tr>\n",
              "      <th>Q4-2020</th>\n",
              "      <td>17408.8</td>\n",
              "    </tr>\n",
              "  </tbody>\n",
              "</table>\n",
              "</div>"
            ],
            "text/plain": [
              "           cor_Saldo\n",
              "Trimestre           \n",
              "Q4-2019       3197.2\n",
              "Q1-2020      -7526.5\n",
              "Q2-2020       -437.1\n",
              "Q3-2020      17125.3\n",
              "Q4-2020      17408.8"
            ]
          },
          "execution_count": 48,
          "metadata": {},
          "output_type": "execute_result"
        }
      ]
    },
    {
      "cell_type": "code",
      "metadata": {
        "id": "B8TvuBHM7QJu",
        "outputId": "8948dee9-9570-442b-8ed1-454d24d1790d"
      },
      "source": [
        "plt.figure(figsize=(7,4))\n",
        "plt.title('Importaciones y Exportaciones de la Balanza Comercial')\n",
        "\n",
        "plt.xlabel('Trimestre')\n",
        "plt.ylabel('Millones de Dolares')\n",
        "plt.plot(df['Importaciones'], 'r.-', label='Importaciones')\n",
        "plt.plot(df['Exportaciones'], 'g.-', label='Exportaciones')\n",
        "plt.legend()\n",
        "plt.show()"
      ],
      "execution_count": null,
      "outputs": [
        {
          "data": {
            "image/png": "[encoded data removed]",
            "text/plain": [
              "<Figure size 504x288 with 1 Axes>"
            ]
          },
          "metadata": {},
          "output_type": "display_data"
        }
      ]
    },
    {
      "cell_type": "code",
      "metadata": {
        "id": "1BsbdX1N7QJv",
        "outputId": "15a608d3-a4e6-4651-c566-baedba5784f3"
      },
      "source": [
        "df[['Importaciones','Exportaciones',]]"
      ],
      "execution_count": null,
      "outputs": [
        {
          "data": {
            "text/html": [
              "<div>\n",
              "<style scoped>\n",
              "    .dataframe tbody tr th:only-of-type {\n",
              "        vertical-align: middle;\n",
              "    }\n",
              "\n",
              "    .dataframe tbody tr th {\n",
              "        vertical-align: top;\n",
              "    }\n",
              "\n",
              "    .dataframe thead th {\n",
              "        text-align: right;\n",
              "    }\n",
              "</style>\n",
              "<table border=\"1\" class=\"dataframe\">\n",
              "  <thead>\n",
              "    <tr style=\"text-align: right;\">\n",
              "      <th></th>\n",
              "      <th>Importaciones</th>\n",
              "      <th>Exportaciones</th>\n",
              "    </tr>\n",
              "    <tr>\n",
              "      <th>Trimestre</th>\n",
              "      <th></th>\n",
              "      <th></th>\n",
              "    </tr>\n",
              "  </thead>\n",
              "  <tbody>\n",
              "    <tr>\n",
              "      <th>Q4-2019</th>\n",
              "      <td>113756.613</td>\n",
              "      <td>116969.891</td>\n",
              "    </tr>\n",
              "    <tr>\n",
              "      <th>Q1-2020</th>\n",
              "      <td>104799.813</td>\n",
              "      <td>108522.241</td>\n",
              "    </tr>\n",
              "    <tr>\n",
              "      <th>Q2-2020</th>\n",
              "      <td>75594.403</td>\n",
              "      <td>74531.045</td>\n",
              "    </tr>\n",
              "    <tr>\n",
              "      <th>Q3-2020</th>\n",
              "      <td>94889.572</td>\n",
              "      <td>111188.715</td>\n",
              "    </tr>\n",
              "    <tr>\n",
              "      <th>Q4-2020</th>\n",
              "      <td>107910.065</td>\n",
              "      <td>123428.294</td>\n",
              "    </tr>\n",
              "  </tbody>\n",
              "</table>\n",
              "</div>"
            ],
            "text/plain": [
              "           Importaciones  Exportaciones\n",
              "Trimestre                              \n",
              "Q4-2019       113756.613     116969.891\n",
              "Q1-2020       104799.813     108522.241\n",
              "Q2-2020        75594.403      74531.045\n",
              "Q3-2020        94889.572     111188.715\n",
              "Q4-2020       107910.065     123428.294"
            ]
          },
          "execution_count": 49,
          "metadata": {},
          "output_type": "execute_result"
        }
      ]
    },
    {
      "cell_type": "code",
      "metadata": {
        "id": "RLdYUHe97QKR",
        "outputId": "7279fc3e-c8db-404e-d28a-0b3ee90c3532"
      },
      "source": [
        "df['Saldo_BC'] = df['Exportaciones'] - df['Importaciones']\n",
        "df['Saldo_BC'].to_frame()"
      ],
      "execution_count": null,
      "outputs": [
        {
          "data": {
            "text/html": [
              "<div>\n",
              "<style scoped>\n",
              "    .dataframe tbody tr th:only-of-type {\n",
              "        vertical-align: middle;\n",
              "    }\n",
              "\n",
              "    .dataframe tbody tr th {\n",
              "        vertical-align: top;\n",
              "    }\n",
              "\n",
              "    .dataframe thead th {\n",
              "        text-align: right;\n",
              "    }\n",
              "</style>\n",
              "<table border=\"1\" class=\"dataframe\">\n",
              "  <thead>\n",
              "    <tr style=\"text-align: right;\">\n",
              "      <th></th>\n",
              "      <th>Saldo_BC</th>\n",
              "    </tr>\n",
              "    <tr>\n",
              "      <th>Trimestre</th>\n",
              "      <th></th>\n",
              "    </tr>\n",
              "  </thead>\n",
              "  <tbody>\n",
              "    <tr>\n",
              "      <th>Q4-2019</th>\n",
              "      <td>3213.278</td>\n",
              "    </tr>\n",
              "    <tr>\n",
              "      <th>Q1-2020</th>\n",
              "      <td>3722.428</td>\n",
              "    </tr>\n",
              "    <tr>\n",
              "      <th>Q2-2020</th>\n",
              "      <td>-1063.358</td>\n",
              "    </tr>\n",
              "    <tr>\n",
              "      <th>Q3-2020</th>\n",
              "      <td>16299.143</td>\n",
              "    </tr>\n",
              "    <tr>\n",
              "      <th>Q4-2020</th>\n",
              "      <td>15518.229</td>\n",
              "    </tr>\n",
              "  </tbody>\n",
              "</table>\n",
              "</div>"
            ],
            "text/plain": [
              "            Saldo_BC\n",
              "Trimestre           \n",
              "Q4-2019     3213.278\n",
              "Q1-2020     3722.428\n",
              "Q2-2020    -1063.358\n",
              "Q3-2020    16299.143\n",
              "Q4-2020    15518.229"
            ]
          },
          "execution_count": 50,
          "metadata": {},
          "output_type": "execute_result"
        }
      ]
    },
    {
      "cell_type": "code",
      "metadata": {
        "id": "UwVutwxY7QKU",
        "outputId": "2737149a-0e67-40b3-89bd-c3cda8a83108"
      },
      "source": [
        "plt.figure(figsize=(7,4))\n",
        "plt.title('Activo vs. Pasivo Cuenta de Capital')\n",
        "\n",
        "plt.xlabel('Trimestre')\n",
        "plt.ylabel('Miles de Millones de Dolares')\n",
        "plt.plot(df['cap_credito'], 'b.-', label='Credito')\n",
        "plt.plot(df['cap_debito'], 'r.-', label='Debito')\n",
        "plt.legend()\n",
        "plt.show()"
      ],
      "execution_count": null,
      "outputs": [
        {
          "data": {
            "image/png": "[encoded data removed]",
            "text/plain": [
              "<Figure size 504x288 with 1 Axes>"
            ]
          },
          "metadata": {},
          "output_type": "display_data"
        }
      ]
    },
    {
      "cell_type": "code",
      "metadata": {
        "id": "vXSaIKq47QKW",
        "outputId": "341946b8-dbc2-44b5-9713-a74a62185ff1"
      },
      "source": [
        "df['cap_saldo'] = df['cap_credito']-df['cap_debito']\n",
        "df['cap_saldo'].to_frame()"
      ],
      "execution_count": null,
      "outputs": [
        {
          "data": {
            "text/html": [
              "<div>\n",
              "<style scoped>\n",
              "    .dataframe tbody tr th:only-of-type {\n",
              "        vertical-align: middle;\n",
              "    }\n",
              "\n",
              "    .dataframe tbody tr th {\n",
              "        vertical-align: top;\n",
              "    }\n",
              "\n",
              "    .dataframe thead th {\n",
              "        text-align: right;\n",
              "    }\n",
              "</style>\n",
              "<table border=\"1\" class=\"dataframe\">\n",
              "  <thead>\n",
              "    <tr style=\"text-align: right;\">\n",
              "      <th></th>\n",
              "      <th>cap_saldo</th>\n",
              "    </tr>\n",
              "    <tr>\n",
              "      <th>Trimestre</th>\n",
              "      <th></th>\n",
              "    </tr>\n",
              "  </thead>\n",
              "  <tbody>\n",
              "    <tr>\n",
              "      <th>Q4-2019</th>\n",
              "      <td>-10.5</td>\n",
              "    </tr>\n",
              "    <tr>\n",
              "      <th>Q1-2020</th>\n",
              "      <td>-10.6</td>\n",
              "    </tr>\n",
              "    <tr>\n",
              "      <th>Q2-2020</th>\n",
              "      <td>-5.1</td>\n",
              "    </tr>\n",
              "    <tr>\n",
              "      <th>Q3-2020</th>\n",
              "      <td>-7.0</td>\n",
              "    </tr>\n",
              "    <tr>\n",
              "      <th>Q4-2020</th>\n",
              "      <td>-7.9</td>\n",
              "    </tr>\n",
              "  </tbody>\n",
              "</table>\n",
              "</div>"
            ],
            "text/plain": [
              "           cap_saldo\n",
              "Trimestre           \n",
              "Q4-2019        -10.5\n",
              "Q1-2020        -10.6\n",
              "Q2-2020         -5.1\n",
              "Q3-2020         -7.0\n",
              "Q4-2020         -7.9"
            ]
          },
          "execution_count": 55,
          "metadata": {},
          "output_type": "execute_result"
        }
      ]
    },
    {
      "cell_type": "code",
      "metadata": {
        "id": "OuoJ1j-S7QKZ",
        "outputId": "381bd936-ad4f-4f54-b360-6f5b62a5bea7"
      },
      "source": [
        "df[['cap_credito','cap_debito']]"
      ],
      "execution_count": null,
      "outputs": [
        {
          "data": {
            "text/html": [
              "<div>\n",
              "<style scoped>\n",
              "    .dataframe tbody tr th:only-of-type {\n",
              "        vertical-align: middle;\n",
              "    }\n",
              "\n",
              "    .dataframe tbody tr th {\n",
              "        vertical-align: top;\n",
              "    }\n",
              "\n",
              "    .dataframe thead th {\n",
              "        text-align: right;\n",
              "    }\n",
              "</style>\n",
              "<table border=\"1\" class=\"dataframe\">\n",
              "  <thead>\n",
              "    <tr style=\"text-align: right;\">\n",
              "      <th></th>\n",
              "      <th>cap_credito</th>\n",
              "      <th>cap_debito</th>\n",
              "    </tr>\n",
              "    <tr>\n",
              "      <th>Trimestre</th>\n",
              "      <th></th>\n",
              "      <th></th>\n",
              "    </tr>\n",
              "  </thead>\n",
              "  <tbody>\n",
              "    <tr>\n",
              "      <th>Q4-2019</th>\n",
              "      <td>41.6</td>\n",
              "      <td>52.1</td>\n",
              "    </tr>\n",
              "    <tr>\n",
              "      <th>Q1-2020</th>\n",
              "      <td>86.1</td>\n",
              "      <td>96.7</td>\n",
              "    </tr>\n",
              "    <tr>\n",
              "      <th>Q2-2020</th>\n",
              "      <td>47.2</td>\n",
              "      <td>52.3</td>\n",
              "    </tr>\n",
              "    <tr>\n",
              "      <th>Q3-2020</th>\n",
              "      <td>62.1</td>\n",
              "      <td>69.1</td>\n",
              "    </tr>\n",
              "    <tr>\n",
              "      <th>Q4-2020</th>\n",
              "      <td>46.8</td>\n",
              "      <td>54.7</td>\n",
              "    </tr>\n",
              "  </tbody>\n",
              "</table>\n",
              "</div>"
            ],
            "text/plain": [
              "           cap_credito  cap_debito\n",
              "Trimestre                         \n",
              "Q4-2019           41.6        52.1\n",
              "Q1-2020           86.1        96.7\n",
              "Q2-2020           47.2        52.3\n",
              "Q3-2020           62.1        69.1\n",
              "Q4-2020           46.8        54.7"
            ]
          },
          "execution_count": 54,
          "metadata": {},
          "output_type": "execute_result"
        }
      ]
    },
    {
      "cell_type": "code",
      "metadata": {
        "id": "p3zeymPj7QKc",
        "outputId": "3968bbe3-466f-4475-c063-bdda861c3912"
      },
      "source": [
        "plt.figure(figsize=(7,4))\n",
        "plt.title('Inversion extrangera directa y de cartera')\n",
        "\n",
        "plt.xlabel('Trimestre')\n",
        "plt.ylabel('Millones de Dolares')\n",
        "plt.plot(df['inversion_directa'], 'b.-', label='Inv. Extranjera')\n",
        "plt.plot(df['inversion_cartera'], 'r.-', label='Inv. Cartera')\n",
        "plt.legend()\n",
        "plt.show()"
      ],
      "execution_count": null,
      "outputs": [
        {
          "data": {
            "image/png": "[encoded data removed]",
            "text/plain": [
              "<Figure size 504x288 with 1 Axes>"
            ]
          },
          "metadata": {},
          "output_type": "display_data"
        }
      ]
    },
    {
      "cell_type": "code",
      "metadata": {
        "id": "3-SELm9A7QKe",
        "outputId": "5f137cdb-9730-4367-9f0b-5e0494586223"
      },
      "source": [
        "df[['inversion_directa','inversion_cartera']]"
      ],
      "execution_count": null,
      "outputs": [
        {
          "data": {
            "text/html": [
              "<div>\n",
              "<style scoped>\n",
              "    .dataframe tbody tr th:only-of-type {\n",
              "        vertical-align: middle;\n",
              "    }\n",
              "\n",
              "    .dataframe tbody tr th {\n",
              "        vertical-align: top;\n",
              "    }\n",
              "\n",
              "    .dataframe thead th {\n",
              "        text-align: right;\n",
              "    }\n",
              "</style>\n",
              "<table border=\"1\" class=\"dataframe\">\n",
              "  <thead>\n",
              "    <tr style=\"text-align: right;\">\n",
              "      <th></th>\n",
              "      <th>inversion_directa</th>\n",
              "      <th>inversion_cartera</th>\n",
              "    </tr>\n",
              "    <tr>\n",
              "      <th>Trimestre</th>\n",
              "      <th></th>\n",
              "      <th></th>\n",
              "    </tr>\n",
              "  </thead>\n",
              "  <tbody>\n",
              "    <tr>\n",
              "      <th>Q4-2019</th>\n",
              "      <td>-1823.0</td>\n",
              "      <td>1997.7</td>\n",
              "    </tr>\n",
              "    <tr>\n",
              "      <th>Q1-2020</th>\n",
              "      <td>-16064.2</td>\n",
              "      <td>-2431.6</td>\n",
              "    </tr>\n",
              "    <tr>\n",
              "      <th>Q2-2020</th>\n",
              "      <td>-2214.3</td>\n",
              "      <td>7224.0</td>\n",
              "    </tr>\n",
              "    <tr>\n",
              "      <th>Q3-2020</th>\n",
              "      <td>-2278.8</td>\n",
              "      <td>2231.2</td>\n",
              "    </tr>\n",
              "    <tr>\n",
              "      <th>Q4-2020</th>\n",
              "      <td>-1994.0</td>\n",
              "      <td>3719.7</td>\n",
              "    </tr>\n",
              "  </tbody>\n",
              "</table>\n",
              "</div>"
            ],
            "text/plain": [
              "           inversion_directa  inversion_cartera\n",
              "Trimestre                                      \n",
              "Q4-2019              -1823.0             1997.7\n",
              "Q1-2020             -16064.2            -2431.6\n",
              "Q2-2020              -2214.3             7224.0\n",
              "Q3-2020              -2278.8             2231.2\n",
              "Q4-2020              -1994.0             3719.7"
            ]
          },
          "execution_count": 38,
          "metadata": {},
          "output_type": "execute_result"
        }
      ]
    },
    {
      "cell_type": "code",
      "metadata": {
        "id": "UZDt5ZWk7QKg",
        "outputId": "14401184-4050-4ac1-8636-dad32f83f803"
      },
      "source": [
        "plt.figure(figsize=(7,4))\n",
        "plt.title('PIB Trimestral')\n",
        "\n",
        "plt.xlabel('Trimestre')\n",
        "plt.ylabel('%')\n",
        "plt.plot(df['pib'], 'b.-', label='PIB')\n",
        "plt.legend()\n",
        "plt.show()"
      ],
      "execution_count": null,
      "outputs": [
        {
          "data": {
            "image/png": "[encoded data removed]",
            "text/plain": [
              "<Figure size 504x288 with 1 Axes>"
            ]
          },
          "metadata": {},
          "output_type": "display_data"
        }
      ]
    },
    {
      "cell_type": "code",
      "metadata": {
        "id": "USikkwoG7QKi",
        "outputId": "19e9fcad-5741-4f08-cb4f-863ea39333df"
      },
      "source": [
        "df.pib.to_frame()"
      ],
      "execution_count": null,
      "outputs": [
        {
          "data": {
            "text/html": [
              "<div>\n",
              "<style scoped>\n",
              "    .dataframe tbody tr th:only-of-type {\n",
              "        vertical-align: middle;\n",
              "    }\n",
              "\n",
              "    .dataframe tbody tr th {\n",
              "        vertical-align: top;\n",
              "    }\n",
              "\n",
              "    .dataframe thead th {\n",
              "        text-align: right;\n",
              "    }\n",
              "</style>\n",
              "<table border=\"1\" class=\"dataframe\">\n",
              "  <thead>\n",
              "    <tr style=\"text-align: right;\">\n",
              "      <th></th>\n",
              "      <th>pib</th>\n",
              "    </tr>\n",
              "    <tr>\n",
              "      <th>Trimestre</th>\n",
              "      <th></th>\n",
              "    </tr>\n",
              "  </thead>\n",
              "  <tbody>\n",
              "    <tr>\n",
              "      <th>Q4-2019</th>\n",
              "      <td>-1.1</td>\n",
              "    </tr>\n",
              "    <tr>\n",
              "      <th>Q1-2020</th>\n",
              "      <td>-1.0</td>\n",
              "    </tr>\n",
              "    <tr>\n",
              "      <th>Q2-2020</th>\n",
              "      <td>-16.8</td>\n",
              "    </tr>\n",
              "    <tr>\n",
              "      <th>Q3-2020</th>\n",
              "      <td>12.4</td>\n",
              "    </tr>\n",
              "    <tr>\n",
              "      <th>Q4-2020</th>\n",
              "      <td>3.3</td>\n",
              "    </tr>\n",
              "  </tbody>\n",
              "</table>\n",
              "</div>"
            ],
            "text/plain": [
              "            pib\n",
              "Trimestre      \n",
              "Q4-2019    -1.1\n",
              "Q1-2020    -1.0\n",
              "Q2-2020   -16.8\n",
              "Q3-2020    12.4\n",
              "Q4-2020     3.3"
            ]
          },
          "execution_count": 60,
          "metadata": {},
          "output_type": "execute_result"
        }
      ]
    },
    {
      "cell_type": "code",
      "metadata": {
        "id": "u-AyCgNh7QKk"
      },
      "source": [
        "df.to_csv('AnalisisMacro')"
      ],
      "execution_count": null,
      "outputs": []
    }
  ]
}