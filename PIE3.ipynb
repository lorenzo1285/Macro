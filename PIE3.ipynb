{
  "nbformat": 4,
  "nbformat_minor": 0,
  "metadata": {
    "kernelspec": {
      "display_name": "Python 3",
      "language": "python",
      "name": "python3"
    },
    "language_info": {
      "codemirror_mode": {
        "name": "ipython",
        "version": 3
      },
      "file_extension": ".py",
      "mimetype": "text/x-python",
      "name": "python",
      "nbconvert_exporter": "python",
      "pygments_lexer": "ipython3",
      "version": "3.7.3"
    },
    "colab": {
      "name": "PIE3.ipynb",
      "provenance": [],
      "include_colab_link": true
    }
  },
  "cells": [
    {
      "cell_type": "markdown",
      "metadata": {
        "id": "view-in-github",
        "colab_type": "text"
      },
      "source": [
        "<a href=\"https://colab.research.google.com/github/lorenzo1285/Macro/blob/main/PIE3.ipynb\" target=\"_parent\"><img src=\"https://colab.research.google.com/assets/colab-badge.svg\" alt=\"Open In Colab\"/></a>"
      ]
    },
    {
      "cell_type": "code",
      "metadata": {
        "id": "7pLwqg_K8rPt"
      },
      "source": [
        "%matplotlib inline\n",
        "import matplotlib.pyplot as plt\n",
        "import seaborn as sns\n",
        "import pandas as pd\n",
        "import statsmodels.api as sm\n",
        "import numpy as np\n",
        "sns.set_style('whitegrid')"
      ],
      "execution_count": null,
      "outputs": []
    },
    {
      "cell_type": "code",
      "metadata": {
        "id": "swFNsstz8rP-",
        "outputId": "4a205ee7-f4b2-4b07-dcc0-d0d1fe43ad48"
      },
      "source": [
        "df_cetes = pd.read_excel('Consulta_20210411-152324313.xlsx',skiprows = range(17))\n",
        "df_cetes.head()\n"
      ],
      "execution_count": null,
      "outputs": [
        {
          "data": {
            "text/html": [
              "<div>\n",
              "<style scoped>\n",
              "    .dataframe tbody tr th:only-of-type {\n",
              "        vertical-align: middle;\n",
              "    }\n",
              "\n",
              "    .dataframe tbody tr th {\n",
              "        vertical-align: top;\n",
              "    }\n",
              "\n",
              "    .dataframe thead th {\n",
              "        text-align: right;\n",
              "    }\n",
              "</style>\n",
              "<table border=\"1\" class=\"dataframe\">\n",
              "  <thead>\n",
              "    <tr style=\"text-align: right;\">\n",
              "      <th></th>\n",
              "      <th>Fecha</th>\n",
              "      <th>SF43939</th>\n",
              "    </tr>\n",
              "  </thead>\n",
              "  <tbody>\n",
              "    <tr>\n",
              "      <th>0</th>\n",
              "      <td>2020-04-08</td>\n",
              "      <td>6.20</td>\n",
              "    </tr>\n",
              "    <tr>\n",
              "      <th>1</th>\n",
              "      <td>2020-04-16</td>\n",
              "      <td>6.00</td>\n",
              "    </tr>\n",
              "    <tr>\n",
              "      <th>2</th>\n",
              "      <td>2020-04-23</td>\n",
              "      <td>6.04</td>\n",
              "    </tr>\n",
              "    <tr>\n",
              "      <th>3</th>\n",
              "      <td>2020-04-30</td>\n",
              "      <td>5.78</td>\n",
              "    </tr>\n",
              "    <tr>\n",
              "      <th>4</th>\n",
              "      <td>2020-05-07</td>\n",
              "      <td>5.68</td>\n",
              "    </tr>\n",
              "  </tbody>\n",
              "</table>\n",
              "</div>"
            ],
            "text/plain": [
              "       Fecha  SF43939\n",
              "0 2020-04-08     6.20\n",
              "1 2020-04-16     6.00\n",
              "2 2020-04-23     6.04\n",
              "3 2020-04-30     5.78\n",
              "4 2020-05-07     5.68"
            ]
          },
          "execution_count": 120,
          "metadata": {},
          "output_type": "execute_result"
        }
      ]
    },
    {
      "cell_type": "code",
      "metadata": {
        "id": "jm0XJPzB8rQF",
        "outputId": "e7641d61-a2a0-4e88-f3dc-b6d83fbd0b17"
      },
      "source": [
        "df_cetes.shape"
      ],
      "execution_count": null,
      "outputs": [
        {
          "data": {
            "text/plain": [
              "(53, 2)"
            ]
          },
          "execution_count": 121,
          "metadata": {},
          "output_type": "execute_result"
        }
      ]
    },
    {
      "cell_type": "code",
      "metadata": {
        "id": "IP9hndna8rQH",
        "outputId": "d9e40d2b-75dd-4150-e1f1-40d14b887224"
      },
      "source": [
        "df_cetes.rename(columns={'SF43939':'Porcentajes'}, inplace=True)\n",
        "df_cetes.head()"
      ],
      "execution_count": null,
      "outputs": [
        {
          "data": {
            "text/html": [
              "<div>\n",
              "<style scoped>\n",
              "    .dataframe tbody tr th:only-of-type {\n",
              "        vertical-align: middle;\n",
              "    }\n",
              "\n",
              "    .dataframe tbody tr th {\n",
              "        vertical-align: top;\n",
              "    }\n",
              "\n",
              "    .dataframe thead th {\n",
              "        text-align: right;\n",
              "    }\n",
              "</style>\n",
              "<table border=\"1\" class=\"dataframe\">\n",
              "  <thead>\n",
              "    <tr style=\"text-align: right;\">\n",
              "      <th></th>\n",
              "      <th>Fecha</th>\n",
              "      <th>Porcentajes</th>\n",
              "    </tr>\n",
              "  </thead>\n",
              "  <tbody>\n",
              "    <tr>\n",
              "      <th>0</th>\n",
              "      <td>2020-04-08</td>\n",
              "      <td>6.20</td>\n",
              "    </tr>\n",
              "    <tr>\n",
              "      <th>1</th>\n",
              "      <td>2020-04-16</td>\n",
              "      <td>6.00</td>\n",
              "    </tr>\n",
              "    <tr>\n",
              "      <th>2</th>\n",
              "      <td>2020-04-23</td>\n",
              "      <td>6.04</td>\n",
              "    </tr>\n",
              "    <tr>\n",
              "      <th>3</th>\n",
              "      <td>2020-04-30</td>\n",
              "      <td>5.78</td>\n",
              "    </tr>\n",
              "    <tr>\n",
              "      <th>4</th>\n",
              "      <td>2020-05-07</td>\n",
              "      <td>5.68</td>\n",
              "    </tr>\n",
              "  </tbody>\n",
              "</table>\n",
              "</div>"
            ],
            "text/plain": [
              "       Fecha  Porcentajes\n",
              "0 2020-04-08         6.20\n",
              "1 2020-04-16         6.00\n",
              "2 2020-04-23         6.04\n",
              "3 2020-04-30         5.78\n",
              "4 2020-05-07         5.68"
            ]
          },
          "execution_count": 122,
          "metadata": {},
          "output_type": "execute_result"
        }
      ]
    },
    {
      "cell_type": "code",
      "metadata": {
        "id": "jbnrmLaU8rQK",
        "outputId": "f711593d-272d-45b4-efb3-7dd0593abfde"
      },
      "source": [
        "df_cetes['Fecha'] = pd.to_datetime(df_cetes.Fecha)\n",
        "df_cetes.dtypes"
      ],
      "execution_count": null,
      "outputs": [
        {
          "data": {
            "text/plain": [
              "Fecha          datetime64[ns]\n",
              "Porcentajes           float64\n",
              "dtype: object"
            ]
          },
          "execution_count": 91,
          "metadata": {},
          "output_type": "execute_result"
        }
      ]
    },
    {
      "cell_type": "code",
      "metadata": {
        "id": "mN55tMrv8rQM",
        "outputId": "c7789a53-5cbc-42ba-c8ff-ccd499df7e8e"
      },
      "source": [
        "df_cetes.tail()"
      ],
      "execution_count": null,
      "outputs": [
        {
          "data": {
            "text/html": [
              "<div>\n",
              "<style scoped>\n",
              "    .dataframe tbody tr th:only-of-type {\n",
              "        vertical-align: middle;\n",
              "    }\n",
              "\n",
              "    .dataframe tbody tr th {\n",
              "        vertical-align: top;\n",
              "    }\n",
              "\n",
              "    .dataframe thead th {\n",
              "        text-align: right;\n",
              "    }\n",
              "</style>\n",
              "<table border=\"1\" class=\"dataframe\">\n",
              "  <thead>\n",
              "    <tr style=\"text-align: right;\">\n",
              "      <th></th>\n",
              "      <th>Fecha</th>\n",
              "      <th>Porcentajes</th>\n",
              "    </tr>\n",
              "  </thead>\n",
              "  <tbody>\n",
              "    <tr>\n",
              "      <th>48</th>\n",
              "      <td>2021-03-11</td>\n",
              "      <td>4.05</td>\n",
              "    </tr>\n",
              "    <tr>\n",
              "      <th>49</th>\n",
              "      <td>2021-03-18</td>\n",
              "      <td>4.07</td>\n",
              "    </tr>\n",
              "    <tr>\n",
              "      <th>50</th>\n",
              "      <td>2021-03-25</td>\n",
              "      <td>4.06</td>\n",
              "    </tr>\n",
              "    <tr>\n",
              "      <th>51</th>\n",
              "      <td>2021-03-31</td>\n",
              "      <td>4.16</td>\n",
              "    </tr>\n",
              "    <tr>\n",
              "      <th>52</th>\n",
              "      <td>2021-04-08</td>\n",
              "      <td>4.12</td>\n",
              "    </tr>\n",
              "  </tbody>\n",
              "</table>\n",
              "</div>"
            ],
            "text/plain": [
              "        Fecha  Porcentajes\n",
              "48 2021-03-11         4.05\n",
              "49 2021-03-18         4.07\n",
              "50 2021-03-25         4.06\n",
              "51 2021-03-31         4.16\n",
              "52 2021-04-08         4.12"
            ]
          },
          "execution_count": 92,
          "metadata": {},
          "output_type": "execute_result"
        }
      ]
    },
    {
      "cell_type": "code",
      "metadata": {
        "id": "1vHAEIoY8rQP",
        "outputId": "5218bba1-4166-498d-eb51-220f569d16ae"
      },
      "source": [
        "df_ipc = pd.read_csv('^MXX (1).csv')\n",
        "df_ipc.head()"
      ],
      "execution_count": null,
      "outputs": [
        {
          "data": {
            "text/html": [
              "<div>\n",
              "<style scoped>\n",
              "    .dataframe tbody tr th:only-of-type {\n",
              "        vertical-align: middle;\n",
              "    }\n",
              "\n",
              "    .dataframe tbody tr th {\n",
              "        vertical-align: top;\n",
              "    }\n",
              "\n",
              "    .dataframe thead th {\n",
              "        text-align: right;\n",
              "    }\n",
              "</style>\n",
              "<table border=\"1\" class=\"dataframe\">\n",
              "  <thead>\n",
              "    <tr style=\"text-align: right;\">\n",
              "      <th></th>\n",
              "      <th>Date</th>\n",
              "      <th>Open</th>\n",
              "      <th>High</th>\n",
              "      <th>Low</th>\n",
              "      <th>Close</th>\n",
              "      <th>Adj Close</th>\n",
              "      <th>Volume</th>\n",
              "    </tr>\n",
              "  </thead>\n",
              "  <tbody>\n",
              "    <tr>\n",
              "      <th>0</th>\n",
              "      <td>2020-04-13</td>\n",
              "      <td>34694.031250</td>\n",
              "      <td>34833.558594</td>\n",
              "      <td>34414.691406</td>\n",
              "      <td>34613.671875</td>\n",
              "      <td>34613.671875</td>\n",
              "      <td>162653800</td>\n",
              "    </tr>\n",
              "    <tr>\n",
              "      <th>1</th>\n",
              "      <td>2020-04-14</td>\n",
              "      <td>34765.511719</td>\n",
              "      <td>35227.601563</td>\n",
              "      <td>34562.898438</td>\n",
              "      <td>34746.390625</td>\n",
              "      <td>34746.390625</td>\n",
              "      <td>183031600</td>\n",
              "    </tr>\n",
              "    <tr>\n",
              "      <th>2</th>\n",
              "      <td>2020-04-15</td>\n",
              "      <td>34593.578125</td>\n",
              "      <td>34618.398438</td>\n",
              "      <td>33805.199219</td>\n",
              "      <td>33855.238281</td>\n",
              "      <td>33855.238281</td>\n",
              "      <td>216587900</td>\n",
              "    </tr>\n",
              "    <tr>\n",
              "      <th>3</th>\n",
              "      <td>2020-04-16</td>\n",
              "      <td>33935.449219</td>\n",
              "      <td>34099.101563</td>\n",
              "      <td>33303.441406</td>\n",
              "      <td>33759.750000</td>\n",
              "      <td>33759.750000</td>\n",
              "      <td>251591100</td>\n",
              "    </tr>\n",
              "    <tr>\n",
              "      <th>4</th>\n",
              "      <td>2020-04-17</td>\n",
              "      <td>34190.019531</td>\n",
              "      <td>34923.761719</td>\n",
              "      <td>34190.019531</td>\n",
              "      <td>34743.101563</td>\n",
              "      <td>34743.101563</td>\n",
              "      <td>162231800</td>\n",
              "    </tr>\n",
              "  </tbody>\n",
              "</table>\n",
              "</div>"
            ],
            "text/plain": [
              "         Date          Open          High           Low         Close  \\\n",
              "0  2020-04-13  34694.031250  34833.558594  34414.691406  34613.671875   \n",
              "1  2020-04-14  34765.511719  35227.601563  34562.898438  34746.390625   \n",
              "2  2020-04-15  34593.578125  34618.398438  33805.199219  33855.238281   \n",
              "3  2020-04-16  33935.449219  34099.101563  33303.441406  33759.750000   \n",
              "4  2020-04-17  34190.019531  34923.761719  34190.019531  34743.101563   \n",
              "\n",
              "      Adj Close     Volume  \n",
              "0  34613.671875  162653800  \n",
              "1  34746.390625  183031600  \n",
              "2  33855.238281  216587900  \n",
              "3  33759.750000  251591100  \n",
              "4  34743.101563  162231800  "
            ]
          },
          "execution_count": 93,
          "metadata": {},
          "output_type": "execute_result"
        }
      ]
    },
    {
      "cell_type": "code",
      "metadata": {
        "id": "HW-P2He98rQR",
        "outputId": "c5cf6a73-e055-4d9f-c32a-603709115135"
      },
      "source": [
        "df_ipc.shape"
      ],
      "execution_count": null,
      "outputs": [
        {
          "data": {
            "text/plain": [
              "(250, 7)"
            ]
          },
          "execution_count": 94,
          "metadata": {},
          "output_type": "execute_result"
        }
      ]
    },
    {
      "cell_type": "code",
      "metadata": {
        "id": "SwD5CZO08rQV",
        "outputId": "83386227-7652-41aa-b9e7-b2408843d3c9"
      },
      "source": [
        "df_ipc['Date'] = pd.to_datetime(df_ipc.Date)\n",
        "df_ipc.dtypes"
      ],
      "execution_count": null,
      "outputs": [
        {
          "data": {
            "text/plain": [
              "Date         datetime64[ns]\n",
              "Open                float64\n",
              "High                float64\n",
              "Low                 float64\n",
              "Close               float64\n",
              "Adj Close           float64\n",
              "Volume                int64\n",
              "dtype: object"
            ]
          },
          "execution_count": 95,
          "metadata": {},
          "output_type": "execute_result"
        }
      ]
    },
    {
      "cell_type": "code",
      "metadata": {
        "id": "UYlXHsLZ8rQZ",
        "outputId": "66ae6a5b-3feb-40d9-fc33-94278d844ab4"
      },
      "source": [
        "df_ipc.set_index('Date', inplace=True)\n",
        "df_ipc.head()"
      ],
      "execution_count": null,
      "outputs": [
        {
          "data": {
            "text/html": [
              "<div>\n",
              "<style scoped>\n",
              "    .dataframe tbody tr th:only-of-type {\n",
              "        vertical-align: middle;\n",
              "    }\n",
              "\n",
              "    .dataframe tbody tr th {\n",
              "        vertical-align: top;\n",
              "    }\n",
              "\n",
              "    .dataframe thead th {\n",
              "        text-align: right;\n",
              "    }\n",
              "</style>\n",
              "<table border=\"1\" class=\"dataframe\">\n",
              "  <thead>\n",
              "    <tr style=\"text-align: right;\">\n",
              "      <th></th>\n",
              "      <th>Open</th>\n",
              "      <th>High</th>\n",
              "      <th>Low</th>\n",
              "      <th>Close</th>\n",
              "      <th>Adj Close</th>\n",
              "      <th>Volume</th>\n",
              "    </tr>\n",
              "    <tr>\n",
              "      <th>Date</th>\n",
              "      <th></th>\n",
              "      <th></th>\n",
              "      <th></th>\n",
              "      <th></th>\n",
              "      <th></th>\n",
              "      <th></th>\n",
              "    </tr>\n",
              "  </thead>\n",
              "  <tbody>\n",
              "    <tr>\n",
              "      <th>2020-04-13</th>\n",
              "      <td>34694.031250</td>\n",
              "      <td>34833.558594</td>\n",
              "      <td>34414.691406</td>\n",
              "      <td>34613.671875</td>\n",
              "      <td>34613.671875</td>\n",
              "      <td>162653800</td>\n",
              "    </tr>\n",
              "    <tr>\n",
              "      <th>2020-04-14</th>\n",
              "      <td>34765.511719</td>\n",
              "      <td>35227.601563</td>\n",
              "      <td>34562.898438</td>\n",
              "      <td>34746.390625</td>\n",
              "      <td>34746.390625</td>\n",
              "      <td>183031600</td>\n",
              "    </tr>\n",
              "    <tr>\n",
              "      <th>2020-04-15</th>\n",
              "      <td>34593.578125</td>\n",
              "      <td>34618.398438</td>\n",
              "      <td>33805.199219</td>\n",
              "      <td>33855.238281</td>\n",
              "      <td>33855.238281</td>\n",
              "      <td>216587900</td>\n",
              "    </tr>\n",
              "    <tr>\n",
              "      <th>2020-04-16</th>\n",
              "      <td>33935.449219</td>\n",
              "      <td>34099.101563</td>\n",
              "      <td>33303.441406</td>\n",
              "      <td>33759.750000</td>\n",
              "      <td>33759.750000</td>\n",
              "      <td>251591100</td>\n",
              "    </tr>\n",
              "    <tr>\n",
              "      <th>2020-04-17</th>\n",
              "      <td>34190.019531</td>\n",
              "      <td>34923.761719</td>\n",
              "      <td>34190.019531</td>\n",
              "      <td>34743.101563</td>\n",
              "      <td>34743.101563</td>\n",
              "      <td>162231800</td>\n",
              "    </tr>\n",
              "  </tbody>\n",
              "</table>\n",
              "</div>"
            ],
            "text/plain": [
              "                    Open          High           Low         Close  \\\n",
              "Date                                                                 \n",
              "2020-04-13  34694.031250  34833.558594  34414.691406  34613.671875   \n",
              "2020-04-14  34765.511719  35227.601563  34562.898438  34746.390625   \n",
              "2020-04-15  34593.578125  34618.398438  33805.199219  33855.238281   \n",
              "2020-04-16  33935.449219  34099.101563  33303.441406  33759.750000   \n",
              "2020-04-17  34190.019531  34923.761719  34190.019531  34743.101563   \n",
              "\n",
              "               Adj Close     Volume  \n",
              "Date                                 \n",
              "2020-04-13  34613.671875  162653800  \n",
              "2020-04-14  34746.390625  183031600  \n",
              "2020-04-15  33855.238281  216587900  \n",
              "2020-04-16  33759.750000  251591100  \n",
              "2020-04-17  34743.101563  162231800  "
            ]
          },
          "execution_count": 96,
          "metadata": {},
          "output_type": "execute_result"
        }
      ]
    },
    {
      "cell_type": "code",
      "metadata": {
        "id": "CeMzJG5N8rQd",
        "outputId": "30d5a4a5-3562-4c23-a1a2-0027b47bcf65"
      },
      "source": [
        "df_ipc.tail()"
      ],
      "execution_count": null,
      "outputs": [
        {
          "data": {
            "text/html": [
              "<div>\n",
              "<style scoped>\n",
              "    .dataframe tbody tr th:only-of-type {\n",
              "        vertical-align: middle;\n",
              "    }\n",
              "\n",
              "    .dataframe tbody tr th {\n",
              "        vertical-align: top;\n",
              "    }\n",
              "\n",
              "    .dataframe thead th {\n",
              "        text-align: right;\n",
              "    }\n",
              "</style>\n",
              "<table border=\"1\" class=\"dataframe\">\n",
              "  <thead>\n",
              "    <tr style=\"text-align: right;\">\n",
              "      <th></th>\n",
              "      <th>Open</th>\n",
              "      <th>High</th>\n",
              "      <th>Low</th>\n",
              "      <th>Close</th>\n",
              "      <th>Adj Close</th>\n",
              "      <th>Volume</th>\n",
              "    </tr>\n",
              "    <tr>\n",
              "      <th>Date</th>\n",
              "      <th></th>\n",
              "      <th></th>\n",
              "      <th></th>\n",
              "      <th></th>\n",
              "      <th></th>\n",
              "      <th></th>\n",
              "    </tr>\n",
              "  </thead>\n",
              "  <tbody>\n",
              "    <tr>\n",
              "      <th>2021-04-05</th>\n",
              "      <td>47575.609375</td>\n",
              "      <td>48335.519531</td>\n",
              "      <td>47487.519531</td>\n",
              "      <td>48245.851563</td>\n",
              "      <td>48245.851563</td>\n",
              "      <td>120250200</td>\n",
              "    </tr>\n",
              "    <tr>\n",
              "      <th>2021-04-06</th>\n",
              "      <td>48238.671875</td>\n",
              "      <td>48238.671875</td>\n",
              "      <td>47876.089844</td>\n",
              "      <td>47985.429688</td>\n",
              "      <td>47985.429688</td>\n",
              "      <td>106725000</td>\n",
              "    </tr>\n",
              "    <tr>\n",
              "      <th>2021-04-07</th>\n",
              "      <td>47571.550781</td>\n",
              "      <td>48053.160156</td>\n",
              "      <td>47478.621094</td>\n",
              "      <td>47897.839844</td>\n",
              "      <td>47897.839844</td>\n",
              "      <td>166002400</td>\n",
              "    </tr>\n",
              "    <tr>\n",
              "      <th>2021-04-08</th>\n",
              "      <td>47853.558594</td>\n",
              "      <td>48315.320313</td>\n",
              "      <td>47756.980469</td>\n",
              "      <td>48188.148438</td>\n",
              "      <td>48188.148438</td>\n",
              "      <td>148442300</td>\n",
              "    </tr>\n",
              "    <tr>\n",
              "      <th>2021-04-09</th>\n",
              "      <td>48185.078125</td>\n",
              "      <td>48253.121094</td>\n",
              "      <td>47588.929688</td>\n",
              "      <td>47627.671875</td>\n",
              "      <td>47627.671875</td>\n",
              "      <td>138001200</td>\n",
              "    </tr>\n",
              "  </tbody>\n",
              "</table>\n",
              "</div>"
            ],
            "text/plain": [
              "                    Open          High           Low         Close  \\\n",
              "Date                                                                 \n",
              "2021-04-05  47575.609375  48335.519531  47487.519531  48245.851563   \n",
              "2021-04-06  48238.671875  48238.671875  47876.089844  47985.429688   \n",
              "2021-04-07  47571.550781  48053.160156  47478.621094  47897.839844   \n",
              "2021-04-08  47853.558594  48315.320313  47756.980469  48188.148438   \n",
              "2021-04-09  48185.078125  48253.121094  47588.929688  47627.671875   \n",
              "\n",
              "               Adj Close     Volume  \n",
              "Date                                 \n",
              "2021-04-05  48245.851563  120250200  \n",
              "2021-04-06  47985.429688  106725000  \n",
              "2021-04-07  47897.839844  166002400  \n",
              "2021-04-08  48188.148438  148442300  \n",
              "2021-04-09  47627.671875  138001200  "
            ]
          },
          "execution_count": 97,
          "metadata": {},
          "output_type": "execute_result"
        }
      ]
    },
    {
      "cell_type": "code",
      "metadata": {
        "id": "hLdnbp7r8rQj",
        "outputId": "de59e060-bcdc-45d2-f05b-2008f9b9e653"
      },
      "source": [
        "df_europeso = pd.read_csv('EURMXN=X.csv')\n",
        "df_europeso.head()"
      ],
      "execution_count": null,
      "outputs": [
        {
          "data": {
            "text/html": [
              "<div>\n",
              "<style scoped>\n",
              "    .dataframe tbody tr th:only-of-type {\n",
              "        vertical-align: middle;\n",
              "    }\n",
              "\n",
              "    .dataframe tbody tr th {\n",
              "        vertical-align: top;\n",
              "    }\n",
              "\n",
              "    .dataframe thead th {\n",
              "        text-align: right;\n",
              "    }\n",
              "</style>\n",
              "<table border=\"1\" class=\"dataframe\">\n",
              "  <thead>\n",
              "    <tr style=\"text-align: right;\">\n",
              "      <th></th>\n",
              "      <th>Date</th>\n",
              "      <th>Open</th>\n",
              "      <th>High</th>\n",
              "      <th>Low</th>\n",
              "      <th>Close</th>\n",
              "      <th>Adj Close</th>\n",
              "      <th>Volume</th>\n",
              "    </tr>\n",
              "  </thead>\n",
              "  <tbody>\n",
              "    <tr>\n",
              "      <th>0</th>\n",
              "      <td>2020-04-13</td>\n",
              "      <td>25.6194</td>\n",
              "      <td>26.039700</td>\n",
              "      <td>25.503599</td>\n",
              "      <td>25.640699</td>\n",
              "      <td>25.640699</td>\n",
              "      <td>0</td>\n",
              "    </tr>\n",
              "    <tr>\n",
              "      <th>1</th>\n",
              "      <td>2020-04-14</td>\n",
              "      <td>25.7568</td>\n",
              "      <td>25.992300</td>\n",
              "      <td>25.596010</td>\n",
              "      <td>25.765600</td>\n",
              "      <td>25.765600</td>\n",
              "      <td>0</td>\n",
              "    </tr>\n",
              "    <tr>\n",
              "      <th>2</th>\n",
              "      <td>2020-04-15</td>\n",
              "      <td>25.6639</td>\n",
              "      <td>26.326401</td>\n",
              "      <td>25.663900</td>\n",
              "      <td>25.669399</td>\n",
              "      <td>25.669399</td>\n",
              "      <td>0</td>\n",
              "    </tr>\n",
              "    <tr>\n",
              "      <th>3</th>\n",
              "      <td>2020-04-16</td>\n",
              "      <td>26.4256</td>\n",
              "      <td>26.575800</td>\n",
              "      <td>26.137400</td>\n",
              "      <td>26.431700</td>\n",
              "      <td>26.431700</td>\n",
              "      <td>0</td>\n",
              "    </tr>\n",
              "    <tr>\n",
              "      <th>4</th>\n",
              "      <td>2020-04-17</td>\n",
              "      <td>25.8016</td>\n",
              "      <td>26.126101</td>\n",
              "      <td>25.746201</td>\n",
              "      <td>25.805099</td>\n",
              "      <td>25.805099</td>\n",
              "      <td>0</td>\n",
              "    </tr>\n",
              "  </tbody>\n",
              "</table>\n",
              "</div>"
            ],
            "text/plain": [
              "         Date     Open       High        Low      Close  Adj Close  Volume\n",
              "0  2020-04-13  25.6194  26.039700  25.503599  25.640699  25.640699       0\n",
              "1  2020-04-14  25.7568  25.992300  25.596010  25.765600  25.765600       0\n",
              "2  2020-04-15  25.6639  26.326401  25.663900  25.669399  25.669399       0\n",
              "3  2020-04-16  26.4256  26.575800  26.137400  26.431700  26.431700       0\n",
              "4  2020-04-17  25.8016  26.126101  25.746201  25.805099  25.805099       0"
            ]
          },
          "execution_count": 98,
          "metadata": {},
          "output_type": "execute_result"
        }
      ]
    },
    {
      "cell_type": "code",
      "metadata": {
        "id": "vfzMGG6m8rQn",
        "outputId": "3ef65edb-db2a-42ba-ad58-7f260bd38c7b"
      },
      "source": [
        "df_europeso.shape"
      ],
      "execution_count": null,
      "outputs": [
        {
          "data": {
            "text/plain": [
              "(262, 7)"
            ]
          },
          "execution_count": 102,
          "metadata": {},
          "output_type": "execute_result"
        }
      ]
    },
    {
      "cell_type": "code",
      "metadata": {
        "id": "EKHPelrn8rQo",
        "outputId": "530207bb-bec2-4442-f34a-6b0a2cd4235d"
      },
      "source": [
        "df_europeso['Date'] = pd.to_datetime(df_ipc.Date)\n",
        "df_europeso.dtypes"
      ],
      "execution_count": null,
      "outputs": [
        {
          "ename": "AttributeError",
          "evalue": "'DataFrame' object has no attribute 'Date'",
          "output_type": "error",
          "traceback": [
            "\u001b[1;31m---------------------------------------------------------------------------\u001b[0m",
            "\u001b[1;31mAttributeError\u001b[0m                            Traceback (most recent call last)",
            "\u001b[1;32m<ipython-input-103-c404bb34c53d>\u001b[0m in \u001b[0;36m<module>\u001b[1;34m\u001b[0m\n\u001b[1;32m----> 1\u001b[1;33m \u001b[0mdf_europeso\u001b[0m\u001b[1;33m[\u001b[0m\u001b[1;34m'Date'\u001b[0m\u001b[1;33m]\u001b[0m \u001b[1;33m=\u001b[0m \u001b[0mpd\u001b[0m\u001b[1;33m.\u001b[0m\u001b[0mto_datetime\u001b[0m\u001b[1;33m(\u001b[0m\u001b[0mdf_ipc\u001b[0m\u001b[1;33m.\u001b[0m\u001b[0mDate\u001b[0m\u001b[1;33m)\u001b[0m\u001b[1;33m\u001b[0m\u001b[1;33m\u001b[0m\u001b[0m\n\u001b[0m\u001b[0;32m      2\u001b[0m \u001b[0mdf_europeso\u001b[0m\u001b[1;33m.\u001b[0m\u001b[0mdtypes\u001b[0m\u001b[1;33m\u001b[0m\u001b[1;33m\u001b[0m\u001b[0m\n",
            "\u001b[1;32m~\\Anaconda3\\lib\\site-packages\\pandas\\core\\generic.py\u001b[0m in \u001b[0;36m__getattr__\u001b[1;34m(self, name)\u001b[0m\n\u001b[0;32m   5065\u001b[0m             \u001b[1;32mif\u001b[0m \u001b[0mself\u001b[0m\u001b[1;33m.\u001b[0m\u001b[0m_info_axis\u001b[0m\u001b[1;33m.\u001b[0m\u001b[0m_can_hold_identifiers_and_holds_name\u001b[0m\u001b[1;33m(\u001b[0m\u001b[0mname\u001b[0m\u001b[1;33m)\u001b[0m\u001b[1;33m:\u001b[0m\u001b[1;33m\u001b[0m\u001b[1;33m\u001b[0m\u001b[0m\n\u001b[0;32m   5066\u001b[0m                 \u001b[1;32mreturn\u001b[0m \u001b[0mself\u001b[0m\u001b[1;33m[\u001b[0m\u001b[0mname\u001b[0m\u001b[1;33m]\u001b[0m\u001b[1;33m\u001b[0m\u001b[1;33m\u001b[0m\u001b[0m\n\u001b[1;32m-> 5067\u001b[1;33m             \u001b[1;32mreturn\u001b[0m \u001b[0mobject\u001b[0m\u001b[1;33m.\u001b[0m\u001b[0m__getattribute__\u001b[0m\u001b[1;33m(\u001b[0m\u001b[0mself\u001b[0m\u001b[1;33m,\u001b[0m \u001b[0mname\u001b[0m\u001b[1;33m)\u001b[0m\u001b[1;33m\u001b[0m\u001b[1;33m\u001b[0m\u001b[0m\n\u001b[0m\u001b[0;32m   5068\u001b[0m \u001b[1;33m\u001b[0m\u001b[0m\n\u001b[0;32m   5069\u001b[0m     \u001b[1;32mdef\u001b[0m \u001b[0m__setattr__\u001b[0m\u001b[1;33m(\u001b[0m\u001b[0mself\u001b[0m\u001b[1;33m,\u001b[0m \u001b[0mname\u001b[0m\u001b[1;33m,\u001b[0m \u001b[0mvalue\u001b[0m\u001b[1;33m)\u001b[0m\u001b[1;33m:\u001b[0m\u001b[1;33m\u001b[0m\u001b[1;33m\u001b[0m\u001b[0m\n",
            "\u001b[1;31mAttributeError\u001b[0m: 'DataFrame' object has no attribute 'Date'"
          ]
        }
      ]
    },
    {
      "cell_type": "code",
      "metadata": {
        "id": "LSjOi4Ur8rQr",
        "outputId": "4195cda7-7fab-4e9a-e209-644d4bcce5ed"
      },
      "source": [
        "df_europeso.tail()"
      ],
      "execution_count": null,
      "outputs": [
        {
          "data": {
            "text/html": [
              "<div>\n",
              "<style scoped>\n",
              "    .dataframe tbody tr th:only-of-type {\n",
              "        vertical-align: middle;\n",
              "    }\n",
              "\n",
              "    .dataframe tbody tr th {\n",
              "        vertical-align: top;\n",
              "    }\n",
              "\n",
              "    .dataframe thead th {\n",
              "        text-align: right;\n",
              "    }\n",
              "</style>\n",
              "<table border=\"1\" class=\"dataframe\">\n",
              "  <thead>\n",
              "    <tr style=\"text-align: right;\">\n",
              "      <th></th>\n",
              "      <th>Date</th>\n",
              "      <th>Open</th>\n",
              "      <th>High</th>\n",
              "      <th>Low</th>\n",
              "      <th>Close</th>\n",
              "      <th>Adj Close</th>\n",
              "      <th>Volume</th>\n",
              "    </tr>\n",
              "  </thead>\n",
              "  <tbody>\n",
              "    <tr>\n",
              "      <th>257</th>\n",
              "      <td>2021-04-07</td>\n",
              "      <td>23.958500</td>\n",
              "      <td>24.027100</td>\n",
              "      <td>23.925200</td>\n",
              "      <td>23.954201</td>\n",
              "      <td>23.954201</td>\n",
              "      <td>0</td>\n",
              "    </tr>\n",
              "    <tr>\n",
              "      <th>258</th>\n",
              "      <td>2021-04-08</td>\n",
              "      <td>23.998699</td>\n",
              "      <td>23.999500</td>\n",
              "      <td>23.881399</td>\n",
              "      <td>23.995501</td>\n",
              "      <td>23.995501</td>\n",
              "      <td>0</td>\n",
              "    </tr>\n",
              "    <tr>\n",
              "      <th>259</th>\n",
              "      <td>2021-04-09</td>\n",
              "      <td>23.947599</td>\n",
              "      <td>24.016701</td>\n",
              "      <td>23.918900</td>\n",
              "      <td>23.947599</td>\n",
              "      <td>23.947599</td>\n",
              "      <td>0</td>\n",
              "    </tr>\n",
              "    <tr>\n",
              "      <th>260</th>\n",
              "      <td>2021-04-12</td>\n",
              "      <td>23.986601</td>\n",
              "      <td>24.021099</td>\n",
              "      <td>23.902500</td>\n",
              "      <td>23.988100</td>\n",
              "      <td>23.988100</td>\n",
              "      <td>0</td>\n",
              "    </tr>\n",
              "    <tr>\n",
              "      <th>261</th>\n",
              "      <td>2021-04-13</td>\n",
              "      <td>23.983150</td>\n",
              "      <td>24.009399</td>\n",
              "      <td>23.973499</td>\n",
              "      <td>23.988100</td>\n",
              "      <td>23.988100</td>\n",
              "      <td>0</td>\n",
              "    </tr>\n",
              "  </tbody>\n",
              "</table>\n",
              "</div>"
            ],
            "text/plain": [
              "           Date       Open       High        Low      Close  Adj Close  Volume\n",
              "257  2021-04-07  23.958500  24.027100  23.925200  23.954201  23.954201       0\n",
              "258  2021-04-08  23.998699  23.999500  23.881399  23.995501  23.995501       0\n",
              "259  2021-04-09  23.947599  24.016701  23.918900  23.947599  23.947599       0\n",
              "260  2021-04-12  23.986601  24.021099  23.902500  23.988100  23.988100       0\n",
              "261  2021-04-13  23.983150  24.009399  23.973499  23.988100  23.988100       0"
            ]
          },
          "execution_count": 104,
          "metadata": {},
          "output_type": "execute_result"
        }
      ]
    },
    {
      "cell_type": "code",
      "metadata": {
        "id": "jOeP1rb_8rQs",
        "outputId": "d8356b68-acf6-47ff-eb1b-8007f1068aa6"
      },
      "source": [
        "df_dollarpeso = pd.read_csv('MXN=X (1).csv')\n",
        "df_dollarpeso.head()"
      ],
      "execution_count": null,
      "outputs": [
        {
          "data": {
            "text/html": [
              "<div>\n",
              "<style scoped>\n",
              "    .dataframe tbody tr th:only-of-type {\n",
              "        vertical-align: middle;\n",
              "    }\n",
              "\n",
              "    .dataframe tbody tr th {\n",
              "        vertical-align: top;\n",
              "    }\n",
              "\n",
              "    .dataframe thead th {\n",
              "        text-align: right;\n",
              "    }\n",
              "</style>\n",
              "<table border=\"1\" class=\"dataframe\">\n",
              "  <thead>\n",
              "    <tr style=\"text-align: right;\">\n",
              "      <th></th>\n",
              "      <th>Date</th>\n",
              "      <th>Open</th>\n",
              "      <th>High</th>\n",
              "      <th>Low</th>\n",
              "      <th>Close</th>\n",
              "      <th>Adj Close</th>\n",
              "      <th>Volume</th>\n",
              "    </tr>\n",
              "  </thead>\n",
              "  <tbody>\n",
              "    <tr>\n",
              "      <th>0</th>\n",
              "      <td>2020-04-13</td>\n",
              "      <td>23.435400</td>\n",
              "      <td>23.859550</td>\n",
              "      <td>23.303699</td>\n",
              "      <td>23.446800</td>\n",
              "      <td>23.446800</td>\n",
              "      <td>0</td>\n",
              "    </tr>\n",
              "    <tr>\n",
              "      <th>1</th>\n",
              "      <td>2020-04-14</td>\n",
              "      <td>23.590931</td>\n",
              "      <td>23.745750</td>\n",
              "      <td>23.383301</td>\n",
              "      <td>23.585199</td>\n",
              "      <td>23.585199</td>\n",
              "      <td>0</td>\n",
              "    </tr>\n",
              "    <tr>\n",
              "      <th>2</th>\n",
              "      <td>2020-04-15</td>\n",
              "      <td>23.363100</td>\n",
              "      <td>24.187901</td>\n",
              "      <td>23.363100</td>\n",
              "      <td>23.362000</td>\n",
              "      <td>23.362000</td>\n",
              "      <td>0</td>\n",
              "    </tr>\n",
              "    <tr>\n",
              "      <th>3</th>\n",
              "      <td>2020-04-16</td>\n",
              "      <td>24.229300</td>\n",
              "      <td>24.422720</td>\n",
              "      <td>23.993000</td>\n",
              "      <td>24.239201</td>\n",
              "      <td>24.239201</td>\n",
              "      <td>0</td>\n",
              "    </tr>\n",
              "    <tr>\n",
              "      <th>4</th>\n",
              "      <td>2020-04-17</td>\n",
              "      <td>23.755800</td>\n",
              "      <td>24.121889</td>\n",
              "      <td>23.685190</td>\n",
              "      <td>23.760201</td>\n",
              "      <td>23.760201</td>\n",
              "      <td>0</td>\n",
              "    </tr>\n",
              "  </tbody>\n",
              "</table>\n",
              "</div>"
            ],
            "text/plain": [
              "         Date       Open       High        Low      Close  Adj Close  Volume\n",
              "0  2020-04-13  23.435400  23.859550  23.303699  23.446800  23.446800       0\n",
              "1  2020-04-14  23.590931  23.745750  23.383301  23.585199  23.585199       0\n",
              "2  2020-04-15  23.363100  24.187901  23.363100  23.362000  23.362000       0\n",
              "3  2020-04-16  24.229300  24.422720  23.993000  24.239201  24.239201       0\n",
              "4  2020-04-17  23.755800  24.121889  23.685190  23.760201  23.760201       0"
            ]
          },
          "execution_count": 105,
          "metadata": {},
          "output_type": "execute_result"
        }
      ]
    },
    {
      "cell_type": "code",
      "metadata": {
        "id": "Hh4aEaCe8rQu",
        "outputId": "a0cbe034-eb1f-4782-dc26-5677efeb86e3"
      },
      "source": [
        "df_dollarpeso.shape"
      ],
      "execution_count": null,
      "outputs": [
        {
          "data": {
            "text/plain": [
              "(260, 7)"
            ]
          },
          "execution_count": 106,
          "metadata": {},
          "output_type": "execute_result"
        }
      ]
    },
    {
      "cell_type": "code",
      "metadata": {
        "id": "L8BDxTlH8rQv",
        "outputId": "bbf721c7-34a9-49b3-cf11-06e00c7ca8fa"
      },
      "source": [
        "df_dollarpeso['Date'] = pd.to_datetime(df_dollarpeso.Date)\n",
        "df_dollarpeso.dtypes"
      ],
      "execution_count": null,
      "outputs": [
        {
          "data": {
            "text/plain": [
              "Date         datetime64[ns]\n",
              "Open                float64\n",
              "High                float64\n",
              "Low                 float64\n",
              "Close               float64\n",
              "Adj Close           float64\n",
              "Volume                int64\n",
              "dtype: object"
            ]
          },
          "execution_count": 107,
          "metadata": {},
          "output_type": "execute_result"
        }
      ]
    },
    {
      "cell_type": "code",
      "metadata": {
        "id": "hTIlWezv8rQw",
        "outputId": "c3c61554-bc39-41e5-ac23-e618084cceed"
      },
      "source": [
        "df_dollarpeso.tail()"
      ],
      "execution_count": null,
      "outputs": [
        {
          "data": {
            "text/html": [
              "<div>\n",
              "<style scoped>\n",
              "    .dataframe tbody tr th:only-of-type {\n",
              "        vertical-align: middle;\n",
              "    }\n",
              "\n",
              "    .dataframe tbody tr th {\n",
              "        vertical-align: top;\n",
              "    }\n",
              "\n",
              "    .dataframe thead th {\n",
              "        text-align: right;\n",
              "    }\n",
              "</style>\n",
              "<table border=\"1\" class=\"dataframe\">\n",
              "  <thead>\n",
              "    <tr style=\"text-align: right;\">\n",
              "      <th></th>\n",
              "      <th>Date</th>\n",
              "      <th>Open</th>\n",
              "      <th>High</th>\n",
              "      <th>Low</th>\n",
              "      <th>Close</th>\n",
              "      <th>Adj Close</th>\n",
              "      <th>Volume</th>\n",
              "    </tr>\n",
              "  </thead>\n",
              "  <tbody>\n",
              "    <tr>\n",
              "      <th>255</th>\n",
              "      <td>2021-04-05</td>\n",
              "      <td>20.311781</td>\n",
              "      <td>20.343380</td>\n",
              "      <td>20.216900</td>\n",
              "      <td>20.305220</td>\n",
              "      <td>20.305220</td>\n",
              "      <td>0</td>\n",
              "    </tr>\n",
              "    <tr>\n",
              "      <th>256</th>\n",
              "      <td>2021-04-06</td>\n",
              "      <td>20.304390</td>\n",
              "      <td>20.375500</td>\n",
              "      <td>20.130800</td>\n",
              "      <td>20.305731</td>\n",
              "      <td>20.305731</td>\n",
              "      <td>0</td>\n",
              "    </tr>\n",
              "    <tr>\n",
              "      <th>257</th>\n",
              "      <td>2021-04-07</td>\n",
              "      <td>20.164200</td>\n",
              "      <td>20.221920</td>\n",
              "      <td>20.137800</td>\n",
              "      <td>20.174459</td>\n",
              "      <td>20.174459</td>\n",
              "      <td>0</td>\n",
              "    </tr>\n",
              "    <tr>\n",
              "      <th>258</th>\n",
              "      <td>2021-04-08</td>\n",
              "      <td>20.203300</td>\n",
              "      <td>20.217400</td>\n",
              "      <td>20.060699</td>\n",
              "      <td>20.211300</td>\n",
              "      <td>20.211300</td>\n",
              "      <td>0</td>\n",
              "    </tr>\n",
              "    <tr>\n",
              "      <th>259</th>\n",
              "      <td>2021-04-09</td>\n",
              "      <td>20.084600</td>\n",
              "      <td>20.222931</td>\n",
              "      <td>20.069500</td>\n",
              "      <td>20.098940</td>\n",
              "      <td>20.098940</td>\n",
              "      <td>0</td>\n",
              "    </tr>\n",
              "  </tbody>\n",
              "</table>\n",
              "</div>"
            ],
            "text/plain": [
              "          Date       Open       High        Low      Close  Adj Close  Volume\n",
              "255 2021-04-05  20.311781  20.343380  20.216900  20.305220  20.305220       0\n",
              "256 2021-04-06  20.304390  20.375500  20.130800  20.305731  20.305731       0\n",
              "257 2021-04-07  20.164200  20.221920  20.137800  20.174459  20.174459       0\n",
              "258 2021-04-08  20.203300  20.217400  20.060699  20.211300  20.211300       0\n",
              "259 2021-04-09  20.084600  20.222931  20.069500  20.098940  20.098940       0"
            ]
          },
          "execution_count": 108,
          "metadata": {},
          "output_type": "execute_result"
        }
      ]
    },
    {
      "cell_type": "markdown",
      "metadata": {
        "id": "kYi4Jeep8rQy"
      },
      "source": [
        "### Data Clean ###"
      ]
    },
    {
      "cell_type": "code",
      "metadata": {
        "id": "zN8XD4JM8rQ8",
        "outputId": "af1df522-d81d-4d03-b8d4-100fed676fcd"
      },
      "source": [
        "#cetes\n",
        "df_cetes.set_index('Fecha', inplace=True)\n",
        "df_cetes.head()"
      ],
      "execution_count": null,
      "outputs": [
        {
          "data": {
            "text/html": [
              "<div>\n",
              "<style scoped>\n",
              "    .dataframe tbody tr th:only-of-type {\n",
              "        vertical-align: middle;\n",
              "    }\n",
              "\n",
              "    .dataframe tbody tr th {\n",
              "        vertical-align: top;\n",
              "    }\n",
              "\n",
              "    .dataframe thead th {\n",
              "        text-align: right;\n",
              "    }\n",
              "</style>\n",
              "<table border=\"1\" class=\"dataframe\">\n",
              "  <thead>\n",
              "    <tr style=\"text-align: right;\">\n",
              "      <th></th>\n",
              "      <th>Porcentajes</th>\n",
              "    </tr>\n",
              "    <tr>\n",
              "      <th>Fecha</th>\n",
              "      <th></th>\n",
              "    </tr>\n",
              "  </thead>\n",
              "  <tbody>\n",
              "    <tr>\n",
              "      <th>2020-04-08</th>\n",
              "      <td>6.20</td>\n",
              "    </tr>\n",
              "    <tr>\n",
              "      <th>2020-04-16</th>\n",
              "      <td>6.00</td>\n",
              "    </tr>\n",
              "    <tr>\n",
              "      <th>2020-04-23</th>\n",
              "      <td>6.04</td>\n",
              "    </tr>\n",
              "    <tr>\n",
              "      <th>2020-04-30</th>\n",
              "      <td>5.78</td>\n",
              "    </tr>\n",
              "    <tr>\n",
              "      <th>2020-05-07</th>\n",
              "      <td>5.68</td>\n",
              "    </tr>\n",
              "  </tbody>\n",
              "</table>\n",
              "</div>"
            ],
            "text/plain": [
              "            Porcentajes\n",
              "Fecha                  \n",
              "2020-04-08         6.20\n",
              "2020-04-16         6.00\n",
              "2020-04-23         6.04\n",
              "2020-04-30         5.78\n",
              "2020-05-07         5.68"
            ]
          },
          "execution_count": 109,
          "metadata": {},
          "output_type": "execute_result"
        }
      ]
    },
    {
      "cell_type": "code",
      "metadata": {
        "id": "ugYhx-KK8rQ_"
      },
      "source": [
        "cetes_q2 = df_cetes.loc['2020-04-01':'2020-06-01',:'Porcentajes'].mean()\n",
        "cetes_q3 = df_cetes.loc['2020-07-01':'2020-09-01',:'Porcentajes'].mean()\n",
        "cetes_q4 = df_cetes.loc['2020-10-01':'2020-12-01',:'Porcentajes'].mean()\n",
        "cetes_q1 = df_cetes.loc['2021-01-01':'2021-04-01',:'Porcentajes'].mean()"
      ],
      "execution_count": null,
      "outputs": []
    },
    {
      "cell_type": "code",
      "metadata": {
        "id": "vROXdd3c8rRA",
        "outputId": "62a31aa0-1b02-469d-9948-8874941e398f"
      },
      "source": [
        "cetes_q1"
      ],
      "execution_count": null,
      "outputs": [
        {
          "data": {
            "text/plain": [
              "Porcentajes    4.131538\n",
              "dtype: float64"
            ]
          },
          "execution_count": 111,
          "metadata": {},
          "output_type": "execute_result"
        }
      ]
    },
    {
      "cell_type": "code",
      "metadata": {
        "id": "epPZoG5T8rRD"
      },
      "source": [
        "datos_trimestre = {'Trimestre':['Q2_2020','Q3_2020','Q4_2020','Q1_2021'],'Cetes-%':[5.6975, 4.611111, 4.282222, 4.131538]}"
      ],
      "execution_count": null,
      "outputs": []
    },
    {
      "cell_type": "code",
      "metadata": {
        "id": "zZ4_igOq8rRG",
        "outputId": "13175f8d-b477-4700-b6fe-e91563d8dae0"
      },
      "source": [
        "df = pd.DataFrame(datos_trimestre)\n",
        "df"
      ],
      "execution_count": null,
      "outputs": [
        {
          "data": {
            "text/html": [
              "<div>\n",
              "<style scoped>\n",
              "    .dataframe tbody tr th:only-of-type {\n",
              "        vertical-align: middle;\n",
              "    }\n",
              "\n",
              "    .dataframe tbody tr th {\n",
              "        vertical-align: top;\n",
              "    }\n",
              "\n",
              "    .dataframe thead th {\n",
              "        text-align: right;\n",
              "    }\n",
              "</style>\n",
              "<table border=\"1\" class=\"dataframe\">\n",
              "  <thead>\n",
              "    <tr style=\"text-align: right;\">\n",
              "      <th></th>\n",
              "      <th>Trimestre</th>\n",
              "      <th>Cetes-%</th>\n",
              "    </tr>\n",
              "  </thead>\n",
              "  <tbody>\n",
              "    <tr>\n",
              "      <th>0</th>\n",
              "      <td>Q2_2020</td>\n",
              "      <td>5.697500</td>\n",
              "    </tr>\n",
              "    <tr>\n",
              "      <th>1</th>\n",
              "      <td>Q3_2020</td>\n",
              "      <td>4.611111</td>\n",
              "    </tr>\n",
              "    <tr>\n",
              "      <th>2</th>\n",
              "      <td>Q4_2020</td>\n",
              "      <td>4.282222</td>\n",
              "    </tr>\n",
              "    <tr>\n",
              "      <th>3</th>\n",
              "      <td>Q1_2021</td>\n",
              "      <td>4.131538</td>\n",
              "    </tr>\n",
              "  </tbody>\n",
              "</table>\n",
              "</div>"
            ],
            "text/plain": [
              "  Trimestre   Cetes-%\n",
              "0   Q2_2020  5.697500\n",
              "1   Q3_2020  4.611111\n",
              "2   Q4_2020  4.282222\n",
              "3   Q1_2021  4.131538"
            ]
          },
          "execution_count": 113,
          "metadata": {},
          "output_type": "execute_result"
        }
      ]
    },
    {
      "cell_type": "code",
      "metadata": {
        "id": "DzUv3VoT8rRJ",
        "outputId": "425c1f56-e9c9-4cbd-92aa-9b49b554835a"
      },
      "source": [
        "df.set_index('Trimestre', inplace=True)\n",
        "df.head()"
      ],
      "execution_count": null,
      "outputs": [
        {
          "data": {
            "text/html": [
              "<div>\n",
              "<style scoped>\n",
              "    .dataframe tbody tr th:only-of-type {\n",
              "        vertical-align: middle;\n",
              "    }\n",
              "\n",
              "    .dataframe tbody tr th {\n",
              "        vertical-align: top;\n",
              "    }\n",
              "\n",
              "    .dataframe thead th {\n",
              "        text-align: right;\n",
              "    }\n",
              "</style>\n",
              "<table border=\"1\" class=\"dataframe\">\n",
              "  <thead>\n",
              "    <tr style=\"text-align: right;\">\n",
              "      <th></th>\n",
              "      <th>Cetes-%</th>\n",
              "    </tr>\n",
              "    <tr>\n",
              "      <th>Trimestre</th>\n",
              "      <th></th>\n",
              "    </tr>\n",
              "  </thead>\n",
              "  <tbody>\n",
              "    <tr>\n",
              "      <th>Q2_2020</th>\n",
              "      <td>5.697500</td>\n",
              "    </tr>\n",
              "    <tr>\n",
              "      <th>Q3_2020</th>\n",
              "      <td>4.611111</td>\n",
              "    </tr>\n",
              "    <tr>\n",
              "      <th>Q4_2020</th>\n",
              "      <td>4.282222</td>\n",
              "    </tr>\n",
              "    <tr>\n",
              "      <th>Q1_2021</th>\n",
              "      <td>4.131538</td>\n",
              "    </tr>\n",
              "  </tbody>\n",
              "</table>\n",
              "</div>"
            ],
            "text/plain": [
              "            Cetes-%\n",
              "Trimestre          \n",
              "Q2_2020    5.697500\n",
              "Q3_2020    4.611111\n",
              "Q4_2020    4.282222\n",
              "Q1_2021    4.131538"
            ]
          },
          "execution_count": 114,
          "metadata": {},
          "output_type": "execute_result"
        }
      ]
    },
    {
      "cell_type": "code",
      "metadata": {
        "id": "PvQtkmJA8rRM",
        "outputId": "9e2a3b90-dd25-48fa-c83a-2221e5e162aa"
      },
      "source": [
        "df['Cetes-%'].plot(kind = 'barh')\n",
        "plt.title('Cetes a 91 dias') \n",
        "plt.ylabel('Trimestre') \n",
        "plt.xlabel('Porcentaje %')\n",
        "plt.show()"
      ],
      "execution_count": null,
      "outputs": [
        {
          "data": {
            "image/png": "[encoded data removed]",
            "text/plain": [
              "<Figure size 432x288 with 1 Axes>"
            ]
          },
          "metadata": {},
          "output_type": "display_data"
        }
      ]
    },
    {
      "cell_type": "code",
      "metadata": {
        "id": "vAkbut_b8rRO",
        "outputId": "73b61194-3971-4b05-8f6f-d976ee66a6d9"
      },
      "source": [
        "sns.barplot(data=datos_trimestre, palette='hot').set(title='Paises con mayor y menor IPC')\n"
      ],
      "execution_count": null,
      "outputs": [
        {
          "ename": "KeyError",
          "evalue": "0",
          "output_type": "error",
          "traceback": [
            "\u001b[1;31m---------------------------------------------------------------------------\u001b[0m",
            "\u001b[1;31mKeyError\u001b[0m                                  Traceback (most recent call last)",
            "\u001b[1;32m<ipython-input-126-7a6b3b3472e4>\u001b[0m in \u001b[0;36m<module>\u001b[1;34m\u001b[0m\n\u001b[1;32m----> 1\u001b[1;33m \u001b[0msns\u001b[0m\u001b[1;33m.\u001b[0m\u001b[0mbarplot\u001b[0m\u001b[1;33m(\u001b[0m\u001b[0mdata\u001b[0m\u001b[1;33m=\u001b[0m\u001b[0mdatos_trimestre\u001b[0m\u001b[1;33m,\u001b[0m \u001b[0mpalette\u001b[0m\u001b[1;33m=\u001b[0m\u001b[1;34m'hot'\u001b[0m\u001b[1;33m)\u001b[0m\u001b[1;33m.\u001b[0m\u001b[0mset\u001b[0m\u001b[1;33m(\u001b[0m\u001b[0mtitle\u001b[0m\u001b[1;33m=\u001b[0m\u001b[1;34m'Paises con mayor y menor IPC'\u001b[0m\u001b[1;33m)\u001b[0m\u001b[1;33m\u001b[0m\u001b[1;33m\u001b[0m\u001b[0m\n\u001b[0m",
            "\u001b[1;32m~\\Anaconda3\\lib\\site-packages\\seaborn\\categorical.py\u001b[0m in \u001b[0;36mbarplot\u001b[1;34m(x, y, hue, data, order, hue_order, estimator, ci, n_boot, units, orient, color, palette, saturation, errcolor, errwidth, capsize, dodge, ax, **kwargs)\u001b[0m\n\u001b[0;32m   3147\u001b[0m                           \u001b[0mestimator\u001b[0m\u001b[1;33m,\u001b[0m \u001b[0mci\u001b[0m\u001b[1;33m,\u001b[0m \u001b[0mn_boot\u001b[0m\u001b[1;33m,\u001b[0m \u001b[0munits\u001b[0m\u001b[1;33m,\u001b[0m\u001b[1;33m\u001b[0m\u001b[1;33m\u001b[0m\u001b[0m\n\u001b[0;32m   3148\u001b[0m                           \u001b[0morient\u001b[0m\u001b[1;33m,\u001b[0m \u001b[0mcolor\u001b[0m\u001b[1;33m,\u001b[0m \u001b[0mpalette\u001b[0m\u001b[1;33m,\u001b[0m \u001b[0msaturation\u001b[0m\u001b[1;33m,\u001b[0m\u001b[1;33m\u001b[0m\u001b[1;33m\u001b[0m\u001b[0m\n\u001b[1;32m-> 3149\u001b[1;33m                           errcolor, errwidth, capsize, dodge)\n\u001b[0m\u001b[0;32m   3150\u001b[0m \u001b[1;33m\u001b[0m\u001b[0m\n\u001b[0;32m   3151\u001b[0m     \u001b[1;32mif\u001b[0m \u001b[0max\u001b[0m \u001b[1;32mis\u001b[0m \u001b[1;32mNone\u001b[0m\u001b[1;33m:\u001b[0m\u001b[1;33m\u001b[0m\u001b[1;33m\u001b[0m\u001b[0m\n",
            "\u001b[1;32m~\\Anaconda3\\lib\\site-packages\\seaborn\\categorical.py\u001b[0m in \u001b[0;36m__init__\u001b[1;34m(self, x, y, hue, data, order, hue_order, estimator, ci, n_boot, units, orient, color, palette, saturation, errcolor, errwidth, capsize, dodge)\u001b[0m\n\u001b[0;32m   1605\u001b[0m         \u001b[1;34m\"\"\"Initialize the plotter.\"\"\"\u001b[0m\u001b[1;33m\u001b[0m\u001b[1;33m\u001b[0m\u001b[0m\n\u001b[0;32m   1606\u001b[0m         self.establish_variables(x, y, hue, data, orient,\n\u001b[1;32m-> 1607\u001b[1;33m                                  order, hue_order, units)\n\u001b[0m\u001b[0;32m   1608\u001b[0m         \u001b[0mself\u001b[0m\u001b[1;33m.\u001b[0m\u001b[0mestablish_colors\u001b[0m\u001b[1;33m(\u001b[0m\u001b[0mcolor\u001b[0m\u001b[1;33m,\u001b[0m \u001b[0mpalette\u001b[0m\u001b[1;33m,\u001b[0m \u001b[0msaturation\u001b[0m\u001b[1;33m)\u001b[0m\u001b[1;33m\u001b[0m\u001b[1;33m\u001b[0m\u001b[0m\n\u001b[0;32m   1609\u001b[0m         \u001b[0mself\u001b[0m\u001b[1;33m.\u001b[0m\u001b[0mestimate_statistic\u001b[0m\u001b[1;33m(\u001b[0m\u001b[0mestimator\u001b[0m\u001b[1;33m,\u001b[0m \u001b[0mci\u001b[0m\u001b[1;33m,\u001b[0m \u001b[0mn_boot\u001b[0m\u001b[1;33m)\u001b[0m\u001b[1;33m\u001b[0m\u001b[1;33m\u001b[0m\u001b[0m\n",
            "\u001b[1;32m~\\Anaconda3\\lib\\site-packages\\seaborn\\categorical.py\u001b[0m in \u001b[0;36mestablish_variables\u001b[1;34m(self, x, y, hue, data, orient, order, hue_order, units)\u001b[0m\n\u001b[0;32m    118\u001b[0m \u001b[1;33m\u001b[0m\u001b[0m\n\u001b[0;32m    119\u001b[0m                 \u001b[1;31m# The input data is a flat list\u001b[0m\u001b[1;33m\u001b[0m\u001b[1;33m\u001b[0m\u001b[1;33m\u001b[0m\u001b[0m\n\u001b[1;32m--> 120\u001b[1;33m                 \u001b[1;32melif\u001b[0m \u001b[0mnp\u001b[0m\u001b[1;33m.\u001b[0m\u001b[0misscalar\u001b[0m\u001b[1;33m(\u001b[0m\u001b[0mdata\u001b[0m\u001b[1;33m[\u001b[0m\u001b[1;36m0\u001b[0m\u001b[1;33m]\u001b[0m\u001b[1;33m)\u001b[0m\u001b[1;33m:\u001b[0m\u001b[1;33m\u001b[0m\u001b[1;33m\u001b[0m\u001b[0m\n\u001b[0m\u001b[0;32m    121\u001b[0m                     \u001b[0mplot_data\u001b[0m \u001b[1;33m=\u001b[0m \u001b[1;33m[\u001b[0m\u001b[0mdata\u001b[0m\u001b[1;33m]\u001b[0m\u001b[1;33m\u001b[0m\u001b[1;33m\u001b[0m\u001b[0m\n\u001b[0;32m    122\u001b[0m \u001b[1;33m\u001b[0m\u001b[0m\n",
            "\u001b[1;31mKeyError\u001b[0m: 0"
          ]
        }
      ]
    },
    {
      "cell_type": "code",
      "metadata": {
        "id": "UxKrbLFG8rRQ"
      },
      "source": [
        "#### Dollar peso"
      ],
      "execution_count": null,
      "outputs": []
    },
    {
      "cell_type": "code",
      "metadata": {
        "id": "_OkMIcRm8rRR"
      },
      "source": [
        "MXUSD_q2 = df_dollarpeso.Close.loc['2020-04-01':'2020-06-01'].mean()\n",
        "MXUSD_q3 = df_dollarpeso.Close.loc['2020-07-01':'2020-09-01'].mean()\n",
        "MXUSD_q4 = df_dollarpeso.Close.loc['2020-10-01':'2020-12-01'].mean()\n",
        "MXUSD_q1 = df_dollarpeso.Close.loc['2021-01-01':'2021-04-01'].mean()"
      ],
      "execution_count": null,
      "outputs": []
    },
    {
      "cell_type": "code",
      "metadata": {
        "id": "Rmqbkv6V8rRV",
        "outputId": "772cfff9-90b2-4c7e-cac7-0d2904b69616"
      },
      "source": [
        "df_dollarpeso.set_index('Date', inplace=True)\n",
        "df_dollarpeso.head()"
      ],
      "execution_count": null,
      "outputs": [
        {
          "data": {
            "text/html": [
              "<div>\n",
              "<style scoped>\n",
              "    .dataframe tbody tr th:only-of-type {\n",
              "        vertical-align: middle;\n",
              "    }\n",
              "\n",
              "    .dataframe tbody tr th {\n",
              "        vertical-align: top;\n",
              "    }\n",
              "\n",
              "    .dataframe thead th {\n",
              "        text-align: right;\n",
              "    }\n",
              "</style>\n",
              "<table border=\"1\" class=\"dataframe\">\n",
              "  <thead>\n",
              "    <tr style=\"text-align: right;\">\n",
              "      <th></th>\n",
              "      <th>Open</th>\n",
              "      <th>High</th>\n",
              "      <th>Low</th>\n",
              "      <th>Close</th>\n",
              "      <th>Adj Close</th>\n",
              "      <th>Volume</th>\n",
              "    </tr>\n",
              "    <tr>\n",
              "      <th>Date</th>\n",
              "      <th></th>\n",
              "      <th></th>\n",
              "      <th></th>\n",
              "      <th></th>\n",
              "      <th></th>\n",
              "      <th></th>\n",
              "    </tr>\n",
              "  </thead>\n",
              "  <tbody>\n",
              "    <tr>\n",
              "      <th>2020-04-13</th>\n",
              "      <td>23.435400</td>\n",
              "      <td>23.859550</td>\n",
              "      <td>23.303699</td>\n",
              "      <td>23.446800</td>\n",
              "      <td>23.446800</td>\n",
              "      <td>0</td>\n",
              "    </tr>\n",
              "    <tr>\n",
              "      <th>2020-04-14</th>\n",
              "      <td>23.590931</td>\n",
              "      <td>23.745750</td>\n",
              "      <td>23.383301</td>\n",
              "      <td>23.585199</td>\n",
              "      <td>23.585199</td>\n",
              "      <td>0</td>\n",
              "    </tr>\n",
              "    <tr>\n",
              "      <th>2020-04-15</th>\n",
              "      <td>23.363100</td>\n",
              "      <td>24.187901</td>\n",
              "      <td>23.363100</td>\n",
              "      <td>23.362000</td>\n",
              "      <td>23.362000</td>\n",
              "      <td>0</td>\n",
              "    </tr>\n",
              "    <tr>\n",
              "      <th>2020-04-16</th>\n",
              "      <td>24.229300</td>\n",
              "      <td>24.422720</td>\n",
              "      <td>23.993000</td>\n",
              "      <td>24.239201</td>\n",
              "      <td>24.239201</td>\n",
              "      <td>0</td>\n",
              "    </tr>\n",
              "    <tr>\n",
              "      <th>2020-04-17</th>\n",
              "      <td>23.755800</td>\n",
              "      <td>24.121889</td>\n",
              "      <td>23.685190</td>\n",
              "      <td>23.760201</td>\n",
              "      <td>23.760201</td>\n",
              "      <td>0</td>\n",
              "    </tr>\n",
              "  </tbody>\n",
              "</table>\n",
              "</div>"
            ],
            "text/plain": [
              "                 Open       High        Low      Close  Adj Close  Volume\n",
              "Date                                                                     \n",
              "2020-04-13  23.435400  23.859550  23.303699  23.446800  23.446800       0\n",
              "2020-04-14  23.590931  23.745750  23.383301  23.585199  23.585199       0\n",
              "2020-04-15  23.363100  24.187901  23.363100  23.362000  23.362000       0\n",
              "2020-04-16  24.229300  24.422720  23.993000  24.239201  24.239201       0\n",
              "2020-04-17  23.755800  24.121889  23.685190  23.760201  23.760201       0"
            ]
          },
          "execution_count": 28,
          "metadata": {},
          "output_type": "execute_result"
        }
      ]
    },
    {
      "cell_type": "code",
      "metadata": {
        "id": "TJh-Bd_s8rRY",
        "outputId": "9f6bef1e-b175-41ff-d69f-a4c439051db8"
      },
      "source": [
        "MXUSD_q2,MXUSD_q3,MXUSD_q4,MXUSD_q1"
      ],
      "execution_count": null,
      "outputs": [
        {
          "data": {
            "text/plain": [
              "(23.745112666666667, 22.30251373333333, 20.86536170454545, 20.33276003076923)"
            ]
          },
          "execution_count": 31,
          "metadata": {},
          "output_type": "execute_result"
        }
      ]
    },
    {
      "cell_type": "code",
      "metadata": {
        "id": "dOgm76vs8rRZ",
        "outputId": "105b3dcb-475b-4e1f-dc15-d79320375f5c"
      },
      "source": [
        "df['Peso_Dollar'] = MXUSD_q2,MXUSD_q3,MXUSD_q4,MXUSD_q1\n",
        "df"
      ],
      "execution_count": null,
      "outputs": [
        {
          "data": {
            "text/html": [
              "<div>\n",
              "<style scoped>\n",
              "    .dataframe tbody tr th:only-of-type {\n",
              "        vertical-align: middle;\n",
              "    }\n",
              "\n",
              "    .dataframe tbody tr th {\n",
              "        vertical-align: top;\n",
              "    }\n",
              "\n",
              "    .dataframe thead th {\n",
              "        text-align: right;\n",
              "    }\n",
              "</style>\n",
              "<table border=\"1\" class=\"dataframe\">\n",
              "  <thead>\n",
              "    <tr style=\"text-align: right;\">\n",
              "      <th></th>\n",
              "      <th>Cetes-%</th>\n",
              "      <th>Peso_Dollar</th>\n",
              "    </tr>\n",
              "    <tr>\n",
              "      <th>Trimestre</th>\n",
              "      <th></th>\n",
              "      <th></th>\n",
              "    </tr>\n",
              "  </thead>\n",
              "  <tbody>\n",
              "    <tr>\n",
              "      <th>Q2_2020</th>\n",
              "      <td>5.697500</td>\n",
              "      <td>23.745113</td>\n",
              "    </tr>\n",
              "    <tr>\n",
              "      <th>Q3_2020</th>\n",
              "      <td>4.611111</td>\n",
              "      <td>22.302514</td>\n",
              "    </tr>\n",
              "    <tr>\n",
              "      <th>Q4_2020</th>\n",
              "      <td>4.282222</td>\n",
              "      <td>20.865362</td>\n",
              "    </tr>\n",
              "    <tr>\n",
              "      <th>Q1_2021</th>\n",
              "      <td>4.131538</td>\n",
              "      <td>20.332760</td>\n",
              "    </tr>\n",
              "  </tbody>\n",
              "</table>\n",
              "</div>"
            ],
            "text/plain": [
              "            Cetes-%  Peso_Dollar\n",
              "Trimestre                       \n",
              "Q2_2020    5.697500    23.745113\n",
              "Q3_2020    4.611111    22.302514\n",
              "Q4_2020    4.282222    20.865362\n",
              "Q1_2021    4.131538    20.332760"
            ]
          },
          "execution_count": 32,
          "metadata": {},
          "output_type": "execute_result"
        }
      ]
    },
    {
      "cell_type": "code",
      "metadata": {
        "id": "jE_yU2LK8rRa",
        "outputId": "411a5562-59a2-4c41-cef8-b5e1d57ff778"
      },
      "source": [
        "df.Peso_Dollar.plot(kind = 'barh')\n",
        "plt.title('Peso Dollar Trimestral') \n",
        "plt.ylabel('Trimestre') \n",
        "plt.xlabel('Pesos')\n",
        "plt.show()"
      ],
      "execution_count": null,
      "outputs": [
        {
          "data": {
            "image/png": "[encoded data removed]",
            "text/plain": [
              "<Figure size 432x288 with 1 Axes>"
            ]
          },
          "metadata": {},
          "output_type": "display_data"
        }
      ]
    },
    {
      "cell_type": "code",
      "metadata": {
        "id": "Ev-cc2Cy8rRb",
        "outputId": "1c72141d-a786-44ed-df7a-33706f034aff"
      },
      "source": [
        "df"
      ],
      "execution_count": null,
      "outputs": [
        {
          "data": {
            "text/html": [
              "<div>\n",
              "<style scoped>\n",
              "    .dataframe tbody tr th:only-of-type {\n",
              "        vertical-align: middle;\n",
              "    }\n",
              "\n",
              "    .dataframe tbody tr th {\n",
              "        vertical-align: top;\n",
              "    }\n",
              "\n",
              "    .dataframe thead th {\n",
              "        text-align: right;\n",
              "    }\n",
              "</style>\n",
              "<table border=\"1\" class=\"dataframe\">\n",
              "  <thead>\n",
              "    <tr style=\"text-align: right;\">\n",
              "      <th></th>\n",
              "      <th>Cetes-%</th>\n",
              "      <th>Peso_Dollar</th>\n",
              "      <th>Euro_Peso</th>\n",
              "      <th>IPC</th>\n",
              "    </tr>\n",
              "    <tr>\n",
              "      <th>Trimestre</th>\n",
              "      <th></th>\n",
              "      <th></th>\n",
              "      <th></th>\n",
              "      <th></th>\n",
              "    </tr>\n",
              "  </thead>\n",
              "  <tbody>\n",
              "    <tr>\n",
              "      <th>Q2_2020</th>\n",
              "      <td>5.697500</td>\n",
              "      <td>23.745113</td>\n",
              "      <td>25.897748</td>\n",
              "      <td>35823.700558</td>\n",
              "    </tr>\n",
              "    <tr>\n",
              "      <th>Q3_2020</th>\n",
              "      <td>4.611111</td>\n",
              "      <td>22.302514</td>\n",
              "      <td>25.954722</td>\n",
              "      <td>37663.158333</td>\n",
              "    </tr>\n",
              "    <tr>\n",
              "      <th>Q4_2020</th>\n",
              "      <td>4.282222</td>\n",
              "      <td>20.865362</td>\n",
              "      <td>24.765141</td>\n",
              "      <td>39259.435082</td>\n",
              "    </tr>\n",
              "    <tr>\n",
              "      <th>Q1_2021</th>\n",
              "      <td>4.131538</td>\n",
              "      <td>20.332760</td>\n",
              "      <td>24.510844</td>\n",
              "      <td>45689.957352</td>\n",
              "    </tr>\n",
              "  </tbody>\n",
              "</table>\n",
              "</div>"
            ],
            "text/plain": [
              "            Cetes-%  Peso_Dollar  Euro_Peso           IPC\n",
              "Trimestre                                                \n",
              "Q2_2020    5.697500    23.745113  25.897748  35823.700558\n",
              "Q3_2020    4.611111    22.302514  25.954722  37663.158333\n",
              "Q4_2020    4.282222    20.865362  24.765141  39259.435082\n",
              "Q1_2021    4.131538    20.332760  24.510844  45689.957352"
            ]
          },
          "execution_count": 63,
          "metadata": {},
          "output_type": "execute_result"
        }
      ]
    },
    {
      "cell_type": "code",
      "metadata": {
        "id": "0_Se0yus8rRd"
      },
      "source": [
        "### euro peso"
      ],
      "execution_count": null,
      "outputs": []
    },
    {
      "cell_type": "code",
      "metadata": {
        "id": "DDbor7fz8rRe",
        "outputId": "2c3d8f16-4793-4cda-d7f4-0a42d4932c29"
      },
      "source": [
        "df_europeso.set_index('Date', inplace=True)\n",
        "df_europeso.head()"
      ],
      "execution_count": null,
      "outputs": [
        {
          "data": {
            "text/html": [
              "<div>\n",
              "<style scoped>\n",
              "    .dataframe tbody tr th:only-of-type {\n",
              "        vertical-align: middle;\n",
              "    }\n",
              "\n",
              "    .dataframe tbody tr th {\n",
              "        vertical-align: top;\n",
              "    }\n",
              "\n",
              "    .dataframe thead th {\n",
              "        text-align: right;\n",
              "    }\n",
              "</style>\n",
              "<table border=\"1\" class=\"dataframe\">\n",
              "  <thead>\n",
              "    <tr style=\"text-align: right;\">\n",
              "      <th></th>\n",
              "      <th>Open</th>\n",
              "      <th>High</th>\n",
              "      <th>Low</th>\n",
              "      <th>Close</th>\n",
              "      <th>Adj Close</th>\n",
              "      <th>Volume</th>\n",
              "    </tr>\n",
              "    <tr>\n",
              "      <th>Date</th>\n",
              "      <th></th>\n",
              "      <th></th>\n",
              "      <th></th>\n",
              "      <th></th>\n",
              "      <th></th>\n",
              "      <th></th>\n",
              "    </tr>\n",
              "  </thead>\n",
              "  <tbody>\n",
              "    <tr>\n",
              "      <th>2020-04-13</th>\n",
              "      <td>25.6194</td>\n",
              "      <td>26.039700</td>\n",
              "      <td>25.503599</td>\n",
              "      <td>25.640699</td>\n",
              "      <td>25.640699</td>\n",
              "      <td>0</td>\n",
              "    </tr>\n",
              "    <tr>\n",
              "      <th>2020-04-14</th>\n",
              "      <td>25.7568</td>\n",
              "      <td>25.992300</td>\n",
              "      <td>25.596010</td>\n",
              "      <td>25.765600</td>\n",
              "      <td>25.765600</td>\n",
              "      <td>0</td>\n",
              "    </tr>\n",
              "    <tr>\n",
              "      <th>2020-04-15</th>\n",
              "      <td>25.6639</td>\n",
              "      <td>26.326401</td>\n",
              "      <td>25.663900</td>\n",
              "      <td>25.669399</td>\n",
              "      <td>25.669399</td>\n",
              "      <td>0</td>\n",
              "    </tr>\n",
              "    <tr>\n",
              "      <th>2020-04-16</th>\n",
              "      <td>26.4256</td>\n",
              "      <td>26.575800</td>\n",
              "      <td>26.137400</td>\n",
              "      <td>26.431700</td>\n",
              "      <td>26.431700</td>\n",
              "      <td>0</td>\n",
              "    </tr>\n",
              "    <tr>\n",
              "      <th>2020-04-17</th>\n",
              "      <td>25.8016</td>\n",
              "      <td>26.126101</td>\n",
              "      <td>25.746201</td>\n",
              "      <td>25.805099</td>\n",
              "      <td>25.805099</td>\n",
              "      <td>0</td>\n",
              "    </tr>\n",
              "  </tbody>\n",
              "</table>\n",
              "</div>"
            ],
            "text/plain": [
              "               Open       High        Low      Close  Adj Close  Volume\n",
              "Date                                                                   \n",
              "2020-04-13  25.6194  26.039700  25.503599  25.640699  25.640699       0\n",
              "2020-04-14  25.7568  25.992300  25.596010  25.765600  25.765600       0\n",
              "2020-04-15  25.6639  26.326401  25.663900  25.669399  25.669399       0\n",
              "2020-04-16  26.4256  26.575800  26.137400  26.431700  26.431700       0\n",
              "2020-04-17  25.8016  26.126101  25.746201  25.805099  25.805099       0"
            ]
          },
          "execution_count": 34,
          "metadata": {},
          "output_type": "execute_result"
        }
      ]
    },
    {
      "cell_type": "code",
      "metadata": {
        "id": "oH5ItgzR8rRf"
      },
      "source": [
        "MXEU_q2 = df_europeso.Close.loc['2020-04-01':'2020-06-01'].mean()\n",
        "MXEU_q3 = df_europeso.Close.loc['2020-07-01':'2020-09-01'].mean()\n",
        "MXEU_q4 = df_europeso.Close.loc['2020-10-01':'2020-12-01'].mean()\n",
        "MXEU_q1 = df_europeso.Close.loc['2021-01-01':'2021-04-01'].mean()"
      ],
      "execution_count": null,
      "outputs": []
    },
    {
      "cell_type": "code",
      "metadata": {
        "id": "phYKKtlR8rRg",
        "outputId": "d8c8bdd7-755a-4558-85a0-935da62e9ec6"
      },
      "source": [
        "df['Euro_Peso'] = MXEU_q2,MXEU_q3,MXEU_q4,MXEU_q1\n",
        "df"
      ],
      "execution_count": null,
      "outputs": [
        {
          "data": {
            "text/html": [
              "<div>\n",
              "<style scoped>\n",
              "    .dataframe tbody tr th:only-of-type {\n",
              "        vertical-align: middle;\n",
              "    }\n",
              "\n",
              "    .dataframe tbody tr th {\n",
              "        vertical-align: top;\n",
              "    }\n",
              "\n",
              "    .dataframe thead th {\n",
              "        text-align: right;\n",
              "    }\n",
              "</style>\n",
              "<table border=\"1\" class=\"dataframe\">\n",
              "  <thead>\n",
              "    <tr style=\"text-align: right;\">\n",
              "      <th></th>\n",
              "      <th>Cetes-%</th>\n",
              "      <th>Euro_Peso</th>\n",
              "      <th>IPC</th>\n",
              "    </tr>\n",
              "    <tr>\n",
              "      <th>Trimestre</th>\n",
              "      <th></th>\n",
              "      <th></th>\n",
              "      <th></th>\n",
              "    </tr>\n",
              "  </thead>\n",
              "  <tbody>\n",
              "    <tr>\n",
              "      <th>Q2_2020</th>\n",
              "      <td>5.697500</td>\n",
              "      <td>25.897748</td>\n",
              "      <td>35823.700558</td>\n",
              "    </tr>\n",
              "    <tr>\n",
              "      <th>Q3_2020</th>\n",
              "      <td>4.611111</td>\n",
              "      <td>25.954722</td>\n",
              "      <td>37663.158333</td>\n",
              "    </tr>\n",
              "    <tr>\n",
              "      <th>Q4_2020</th>\n",
              "      <td>4.282222</td>\n",
              "      <td>24.765141</td>\n",
              "      <td>39259.435082</td>\n",
              "    </tr>\n",
              "    <tr>\n",
              "      <th>Q1_2021</th>\n",
              "      <td>4.131538</td>\n",
              "      <td>24.510844</td>\n",
              "      <td>45689.957352</td>\n",
              "    </tr>\n",
              "  </tbody>\n",
              "</table>\n",
              "</div>"
            ],
            "text/plain": [
              "            Cetes-%  Euro_Peso           IPC\n",
              "Trimestre                                   \n",
              "Q2_2020    5.697500  25.897748  35823.700558\n",
              "Q3_2020    4.611111  25.954722  37663.158333\n",
              "Q4_2020    4.282222  24.765141  39259.435082\n",
              "Q1_2021    4.131538  24.510844  45689.957352"
            ]
          },
          "execution_count": 79,
          "metadata": {},
          "output_type": "execute_result"
        }
      ]
    },
    {
      "cell_type": "code",
      "metadata": {
        "id": "immqwmv68rRh",
        "outputId": "90e0beff-1560-493d-8254-701fddb8b8fc"
      },
      "source": [
        "df.Euro_Peso.plot(kind = 'barh')\n",
        "plt.title('Euro-Peso Trimestral') \n",
        "plt.ylabel('Trimestre') \n",
        "plt.xlabel('Pesos')\n",
        "plt.show()"
      ],
      "execution_count": null,
      "outputs": [
        {
          "data": {
            "image/png": "[encoded data removed]",
            "text/plain": [
              "<Figure size 432x288 with 1 Axes>"
            ]
          },
          "metadata": {},
          "output_type": "display_data"
        }
      ]
    },
    {
      "cell_type": "code",
      "metadata": {
        "id": "EDuFAPEu8rRi",
        "outputId": "73e6f208-bf48-4be1-e4d1-a8fbf665d939"
      },
      "source": [
        "df.Euro_Peso.to_frame()"
      ],
      "execution_count": null,
      "outputs": [
        {
          "data": {
            "text/html": [
              "<div>\n",
              "<style scoped>\n",
              "    .dataframe tbody tr th:only-of-type {\n",
              "        vertical-align: middle;\n",
              "    }\n",
              "\n",
              "    .dataframe tbody tr th {\n",
              "        vertical-align: top;\n",
              "    }\n",
              "\n",
              "    .dataframe thead th {\n",
              "        text-align: right;\n",
              "    }\n",
              "</style>\n",
              "<table border=\"1\" class=\"dataframe\">\n",
              "  <thead>\n",
              "    <tr style=\"text-align: right;\">\n",
              "      <th></th>\n",
              "      <th>Euro_Peso</th>\n",
              "    </tr>\n",
              "    <tr>\n",
              "      <th>Trimestre</th>\n",
              "      <th></th>\n",
              "    </tr>\n",
              "  </thead>\n",
              "  <tbody>\n",
              "    <tr>\n",
              "      <th>Q2_2020</th>\n",
              "      <td>25.897748</td>\n",
              "    </tr>\n",
              "    <tr>\n",
              "      <th>Q3_2020</th>\n",
              "      <td>25.954722</td>\n",
              "    </tr>\n",
              "    <tr>\n",
              "      <th>Q4_2020</th>\n",
              "      <td>24.765141</td>\n",
              "    </tr>\n",
              "    <tr>\n",
              "      <th>Q1_2021</th>\n",
              "      <td>24.510844</td>\n",
              "    </tr>\n",
              "  </tbody>\n",
              "</table>\n",
              "</div>"
            ],
            "text/plain": [
              "           Euro_Peso\n",
              "Trimestre           \n",
              "Q2_2020    25.897748\n",
              "Q3_2020    25.954722\n",
              "Q4_2020    24.765141\n",
              "Q1_2021    24.510844"
            ]
          },
          "execution_count": 83,
          "metadata": {},
          "output_type": "execute_result"
        }
      ]
    },
    {
      "cell_type": "code",
      "metadata": {
        "id": "o7ePI5zV8rRj"
      },
      "source": [
        "#IPC"
      ],
      "execution_count": null,
      "outputs": []
    },
    {
      "cell_type": "code",
      "metadata": {
        "id": "Cn1wWjOo8rRl"
      },
      "source": [
        "IPC_q2 = df_ipc.Close.loc['2020-04-01':'2020-06-01'].mean()\n",
        "IPC_q3 = df_ipc.Close.loc['2020-07-01':'2020-09-01'].mean()\n",
        "IPC_q4 = df_ipc.Close.loc['2020-10-01':'2020-12-01'].mean()\n",
        "IPC_q1 = df_ipc.Close.loc['2021-01-01':'2021-04-01'].mean()"
      ],
      "execution_count": null,
      "outputs": []
    },
    {
      "cell_type": "code",
      "metadata": {
        "id": "G2uw4qcP8rRp",
        "outputId": "f0de727d-74f3-4057-9246-431a98e6f356"
      },
      "source": [
        "df['IPC'] = IPC_q2, IPC_q3, IPC_q4, IPC_q1 \n",
        "df"
      ],
      "execution_count": null,
      "outputs": [
        {
          "data": {
            "text/html": [
              "<div>\n",
              "<style scoped>\n",
              "    .dataframe tbody tr th:only-of-type {\n",
              "        vertical-align: middle;\n",
              "    }\n",
              "\n",
              "    .dataframe tbody tr th {\n",
              "        vertical-align: top;\n",
              "    }\n",
              "\n",
              "    .dataframe thead th {\n",
              "        text-align: right;\n",
              "    }\n",
              "</style>\n",
              "<table border=\"1\" class=\"dataframe\">\n",
              "  <thead>\n",
              "    <tr style=\"text-align: right;\">\n",
              "      <th></th>\n",
              "      <th>Trimestre</th>\n",
              "      <th>Cetes-%</th>\n",
              "      <th>Euro_Peso</th>\n",
              "      <th>IPC</th>\n",
              "    </tr>\n",
              "  </thead>\n",
              "  <tbody>\n",
              "    <tr>\n",
              "      <th>0</th>\n",
              "      <td>Q2_2020</td>\n",
              "      <td>5.697500</td>\n",
              "      <td>25.897748</td>\n",
              "      <td>35823.700558</td>\n",
              "    </tr>\n",
              "    <tr>\n",
              "      <th>1</th>\n",
              "      <td>Q3_2020</td>\n",
              "      <td>4.611111</td>\n",
              "      <td>25.954722</td>\n",
              "      <td>37663.158333</td>\n",
              "    </tr>\n",
              "    <tr>\n",
              "      <th>2</th>\n",
              "      <td>Q4_2020</td>\n",
              "      <td>4.282222</td>\n",
              "      <td>24.765141</td>\n",
              "      <td>39259.435082</td>\n",
              "    </tr>\n",
              "    <tr>\n",
              "      <th>3</th>\n",
              "      <td>Q1_2021</td>\n",
              "      <td>4.131538</td>\n",
              "      <td>24.510844</td>\n",
              "      <td>45689.957352</td>\n",
              "    </tr>\n",
              "  </tbody>\n",
              "</table>\n",
              "</div>"
            ],
            "text/plain": [
              "  Trimestre   Cetes-%  Euro_Peso           IPC\n",
              "0   Q2_2020  5.697500  25.897748  35823.700558\n",
              "1   Q3_2020  4.611111  25.954722  37663.158333\n",
              "2   Q4_2020  4.282222  24.765141  39259.435082\n",
              "3   Q1_2021  4.131538  24.510844  45689.957352"
            ]
          },
          "execution_count": 72,
          "metadata": {},
          "output_type": "execute_result"
        }
      ]
    },
    {
      "cell_type": "code",
      "metadata": {
        "id": "pROz1ujK8rRq",
        "outputId": "4133ed05-f245-4001-86ec-860bafb17318"
      },
      "source": [
        "df.IPC.plot(kind = 'barh')\n",
        "plt.title('IPC Trimestral') \n",
        "plt.ylabel('Trimestre') \n",
        "plt.xlabel('Puntos')\n",
        "plt.show()"
      ],
      "execution_count": null,
      "outputs": [
        {
          "data": {
            "image/png": "[encoded data removed]",
            "text/plain": [
              "<Figure size 432x288 with 1 Axes>"
            ]
          },
          "metadata": {},
          "output_type": "display_data"
        }
      ]
    },
    {
      "cell_type": "code",
      "metadata": {
        "id": "c2Hs5_Z_8rRs",
        "outputId": "cdb5d3a4-da65-4406-8be3-0d77c91ec968"
      },
      "source": [
        "df.IPC.to_frame()"
      ],
      "execution_count": null,
      "outputs": [
        {
          "data": {
            "text/html": [
              "<div>\n",
              "<style scoped>\n",
              "    .dataframe tbody tr th:only-of-type {\n",
              "        vertical-align: middle;\n",
              "    }\n",
              "\n",
              "    .dataframe tbody tr th {\n",
              "        vertical-align: top;\n",
              "    }\n",
              "\n",
              "    .dataframe thead th {\n",
              "        text-align: right;\n",
              "    }\n",
              "</style>\n",
              "<table border=\"1\" class=\"dataframe\">\n",
              "  <thead>\n",
              "    <tr style=\"text-align: right;\">\n",
              "      <th></th>\n",
              "      <th>IPC</th>\n",
              "    </tr>\n",
              "    <tr>\n",
              "      <th>Trimestre</th>\n",
              "      <th></th>\n",
              "    </tr>\n",
              "  </thead>\n",
              "  <tbody>\n",
              "    <tr>\n",
              "      <th>Q2_2020</th>\n",
              "      <td>35823.700558</td>\n",
              "    </tr>\n",
              "    <tr>\n",
              "      <th>Q3_2020</th>\n",
              "      <td>37663.158333</td>\n",
              "    </tr>\n",
              "    <tr>\n",
              "      <th>Q4_2020</th>\n",
              "      <td>39259.435082</td>\n",
              "    </tr>\n",
              "    <tr>\n",
              "      <th>Q1_2021</th>\n",
              "      <td>45689.957352</td>\n",
              "    </tr>\n",
              "  </tbody>\n",
              "</table>\n",
              "</div>"
            ],
            "text/plain": [
              "                    IPC\n",
              "Trimestre              \n",
              "Q2_2020    35823.700558\n",
              "Q3_2020    37663.158333\n",
              "Q4_2020    39259.435082\n",
              "Q1_2021    45689.957352"
            ]
          },
          "execution_count": 85,
          "metadata": {},
          "output_type": "execute_result"
        }
      ]
    }
  ]
}